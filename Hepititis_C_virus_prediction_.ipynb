{
  "cells": [
    {
      "cell_type": "code",
      "execution_count": null,
      "id": "8a0a574c",
      "metadata": {
        "id": "8a0a574c"
      },
      "outputs": [],
      "source": [
        "import numpy as np\n",
        "import pandas as pd\n",
        "import matplotlib.pyplot as plt\n",
        "import seaborn as sns\n",
        "\n",
        "%matplotlib inline"
      ]
    },
    {
      "cell_type": "markdown",
      "id": "91214d9b",
      "metadata": {
        "id": "91214d9b"
      },
      "source": [
        "# Import data"
      ]
    },
    {
      "cell_type": "code",
      "execution_count": null,
      "id": "f0aad00b",
      "metadata": {
        "colab": {
          "base_uri": "https://localhost:8080/",
          "height": 270
        },
        "id": "f0aad00b",
        "outputId": "2886282e-ab4d-4154-db6f-c9ef80f92180"
      },
      "outputs": [
        {
          "output_type": "execute_result",
          "data": {
            "text/plain": [
              "   class  age  sex  steroid  antivirals  fatigue  malaise  anorexia  \\\n",
              "0      2   30    2        1           2        2        2         2   \n",
              "1      2   50    1        1           2        1        2         2   \n",
              "2      2   78    1        2           2        1        2         2   \n",
              "3      2   31    1        0           1        2        2         2   \n",
              "4      2   34    1        2           2        2        2         2   \n",
              "\n",
              "   liver_big  liver_firm  spleen_palpable  spiders  ascites  varices  \\\n",
              "0          1           2                2        2        2        2   \n",
              "1          1           2                2        2        2        2   \n",
              "2          2           2                2        2        2        2   \n",
              "3          2           2                2        2        2        2   \n",
              "4          2           2                2        2        2        2   \n",
              "\n",
              "   bilirubin  alk_phosphate  sgot  albumin  protime  histology  \n",
              "0        1.0             85    18      4.0        0          1  \n",
              "1        0.9            135    42      3.5        0          1  \n",
              "2        0.7             96    32      4.0        0          1  \n",
              "3        0.7             46    52      4.0       80          1  \n",
              "4        1.0              0   200      4.0        0          1  "
            ],
            "text/html": [
              "\n",
              "  <div id=\"df-896dad25-428c-47cf-860c-c7e8f7a7680b\">\n",
              "    <div class=\"colab-df-container\">\n",
              "      <div>\n",
              "<style scoped>\n",
              "    .dataframe tbody tr th:only-of-type {\n",
              "        vertical-align: middle;\n",
              "    }\n",
              "\n",
              "    .dataframe tbody tr th {\n",
              "        vertical-align: top;\n",
              "    }\n",
              "\n",
              "    .dataframe thead th {\n",
              "        text-align: right;\n",
              "    }\n",
              "</style>\n",
              "<table border=\"1\" class=\"dataframe\">\n",
              "  <thead>\n",
              "    <tr style=\"text-align: right;\">\n",
              "      <th></th>\n",
              "      <th>class</th>\n",
              "      <th>age</th>\n",
              "      <th>sex</th>\n",
              "      <th>steroid</th>\n",
              "      <th>antivirals</th>\n",
              "      <th>fatigue</th>\n",
              "      <th>malaise</th>\n",
              "      <th>anorexia</th>\n",
              "      <th>liver_big</th>\n",
              "      <th>liver_firm</th>\n",
              "      <th>spleen_palpable</th>\n",
              "      <th>spiders</th>\n",
              "      <th>ascites</th>\n",
              "      <th>varices</th>\n",
              "      <th>bilirubin</th>\n",
              "      <th>alk_phosphate</th>\n",
              "      <th>sgot</th>\n",
              "      <th>albumin</th>\n",
              "      <th>protime</th>\n",
              "      <th>histology</th>\n",
              "    </tr>\n",
              "  </thead>\n",
              "  <tbody>\n",
              "    <tr>\n",
              "      <th>0</th>\n",
              "      <td>2</td>\n",
              "      <td>30</td>\n",
              "      <td>2</td>\n",
              "      <td>1</td>\n",
              "      <td>2</td>\n",
              "      <td>2</td>\n",
              "      <td>2</td>\n",
              "      <td>2</td>\n",
              "      <td>1</td>\n",
              "      <td>2</td>\n",
              "      <td>2</td>\n",
              "      <td>2</td>\n",
              "      <td>2</td>\n",
              "      <td>2</td>\n",
              "      <td>1.0</td>\n",
              "      <td>85</td>\n",
              "      <td>18</td>\n",
              "      <td>4.0</td>\n",
              "      <td>0</td>\n",
              "      <td>1</td>\n",
              "    </tr>\n",
              "    <tr>\n",
              "      <th>1</th>\n",
              "      <td>2</td>\n",
              "      <td>50</td>\n",
              "      <td>1</td>\n",
              "      <td>1</td>\n",
              "      <td>2</td>\n",
              "      <td>1</td>\n",
              "      <td>2</td>\n",
              "      <td>2</td>\n",
              "      <td>1</td>\n",
              "      <td>2</td>\n",
              "      <td>2</td>\n",
              "      <td>2</td>\n",
              "      <td>2</td>\n",
              "      <td>2</td>\n",
              "      <td>0.9</td>\n",
              "      <td>135</td>\n",
              "      <td>42</td>\n",
              "      <td>3.5</td>\n",
              "      <td>0</td>\n",
              "      <td>1</td>\n",
              "    </tr>\n",
              "    <tr>\n",
              "      <th>2</th>\n",
              "      <td>2</td>\n",
              "      <td>78</td>\n",
              "      <td>1</td>\n",
              "      <td>2</td>\n",
              "      <td>2</td>\n",
              "      <td>1</td>\n",
              "      <td>2</td>\n",
              "      <td>2</td>\n",
              "      <td>2</td>\n",
              "      <td>2</td>\n",
              "      <td>2</td>\n",
              "      <td>2</td>\n",
              "      <td>2</td>\n",
              "      <td>2</td>\n",
              "      <td>0.7</td>\n",
              "      <td>96</td>\n",
              "      <td>32</td>\n",
              "      <td>4.0</td>\n",
              "      <td>0</td>\n",
              "      <td>1</td>\n",
              "    </tr>\n",
              "    <tr>\n",
              "      <th>3</th>\n",
              "      <td>2</td>\n",
              "      <td>31</td>\n",
              "      <td>1</td>\n",
              "      <td>0</td>\n",
              "      <td>1</td>\n",
              "      <td>2</td>\n",
              "      <td>2</td>\n",
              "      <td>2</td>\n",
              "      <td>2</td>\n",
              "      <td>2</td>\n",
              "      <td>2</td>\n",
              "      <td>2</td>\n",
              "      <td>2</td>\n",
              "      <td>2</td>\n",
              "      <td>0.7</td>\n",
              "      <td>46</td>\n",
              "      <td>52</td>\n",
              "      <td>4.0</td>\n",
              "      <td>80</td>\n",
              "      <td>1</td>\n",
              "    </tr>\n",
              "    <tr>\n",
              "      <th>4</th>\n",
              "      <td>2</td>\n",
              "      <td>34</td>\n",
              "      <td>1</td>\n",
              "      <td>2</td>\n",
              "      <td>2</td>\n",
              "      <td>2</td>\n",
              "      <td>2</td>\n",
              "      <td>2</td>\n",
              "      <td>2</td>\n",
              "      <td>2</td>\n",
              "      <td>2</td>\n",
              "      <td>2</td>\n",
              "      <td>2</td>\n",
              "      <td>2</td>\n",
              "      <td>1.0</td>\n",
              "      <td>0</td>\n",
              "      <td>200</td>\n",
              "      <td>4.0</td>\n",
              "      <td>0</td>\n",
              "      <td>1</td>\n",
              "    </tr>\n",
              "  </tbody>\n",
              "</table>\n",
              "</div>\n",
              "      <button class=\"colab-df-convert\" onclick=\"convertToInteractive('df-896dad25-428c-47cf-860c-c7e8f7a7680b')\"\n",
              "              title=\"Convert this dataframe to an interactive table.\"\n",
              "              style=\"display:none;\">\n",
              "        \n",
              "  <svg xmlns=\"http://www.w3.org/2000/svg\" height=\"24px\"viewBox=\"0 0 24 24\"\n",
              "       width=\"24px\">\n",
              "    <path d=\"M0 0h24v24H0V0z\" fill=\"none\"/>\n",
              "    <path d=\"M18.56 5.44l.94 2.06.94-2.06 2.06-.94-2.06-.94-.94-2.06-.94 2.06-2.06.94zm-11 1L8.5 8.5l.94-2.06 2.06-.94-2.06-.94L8.5 2.5l-.94 2.06-2.06.94zm10 10l.94 2.06.94-2.06 2.06-.94-2.06-.94-.94-2.06-.94 2.06-2.06.94z\"/><path d=\"M17.41 7.96l-1.37-1.37c-.4-.4-.92-.59-1.43-.59-.52 0-1.04.2-1.43.59L10.3 9.45l-7.72 7.72c-.78.78-.78 2.05 0 2.83L4 21.41c.39.39.9.59 1.41.59.51 0 1.02-.2 1.41-.59l7.78-7.78 2.81-2.81c.8-.78.8-2.07 0-2.86zM5.41 20L4 18.59l7.72-7.72 1.47 1.35L5.41 20z\"/>\n",
              "  </svg>\n",
              "      </button>\n",
              "      \n",
              "  <style>\n",
              "    .colab-df-container {\n",
              "      display:flex;\n",
              "      flex-wrap:wrap;\n",
              "      gap: 12px;\n",
              "    }\n",
              "\n",
              "    .colab-df-convert {\n",
              "      background-color: #E8F0FE;\n",
              "      border: none;\n",
              "      border-radius: 50%;\n",
              "      cursor: pointer;\n",
              "      display: none;\n",
              "      fill: #1967D2;\n",
              "      height: 32px;\n",
              "      padding: 0 0 0 0;\n",
              "      width: 32px;\n",
              "    }\n",
              "\n",
              "    .colab-df-convert:hover {\n",
              "      background-color: #E2EBFA;\n",
              "      box-shadow: 0px 1px 2px rgba(60, 64, 67, 0.3), 0px 1px 3px 1px rgba(60, 64, 67, 0.15);\n",
              "      fill: #174EA6;\n",
              "    }\n",
              "\n",
              "    [theme=dark] .colab-df-convert {\n",
              "      background-color: #3B4455;\n",
              "      fill: #D2E3FC;\n",
              "    }\n",
              "\n",
              "    [theme=dark] .colab-df-convert:hover {\n",
              "      background-color: #434B5C;\n",
              "      box-shadow: 0px 1px 3px 1px rgba(0, 0, 0, 0.15);\n",
              "      filter: drop-shadow(0px 1px 2px rgba(0, 0, 0, 0.3));\n",
              "      fill: #FFFFFF;\n",
              "    }\n",
              "  </style>\n",
              "\n",
              "      <script>\n",
              "        const buttonEl =\n",
              "          document.querySelector('#df-896dad25-428c-47cf-860c-c7e8f7a7680b button.colab-df-convert');\n",
              "        buttonEl.style.display =\n",
              "          google.colab.kernel.accessAllowed ? 'block' : 'none';\n",
              "\n",
              "        async function convertToInteractive(key) {\n",
              "          const element = document.querySelector('#df-896dad25-428c-47cf-860c-c7e8f7a7680b');\n",
              "          const dataTable =\n",
              "            await google.colab.kernel.invokeFunction('convertToInteractive',\n",
              "                                                     [key], {});\n",
              "          if (!dataTable) return;\n",
              "\n",
              "          const docLinkHtml = 'Like what you see? Visit the ' +\n",
              "            '<a target=\"_blank\" href=https://colab.research.google.com/notebooks/data_table.ipynb>data table notebook</a>'\n",
              "            + ' to learn more about interactive tables.';\n",
              "          element.innerHTML = '';\n",
              "          dataTable['output_type'] = 'display_data';\n",
              "          await google.colab.output.renderOutput(dataTable, element);\n",
              "          const docLink = document.createElement('div');\n",
              "          docLink.innerHTML = docLinkHtml;\n",
              "          element.appendChild(docLink);\n",
              "        }\n",
              "      </script>\n",
              "    </div>\n",
              "  </div>\n",
              "  "
            ]
          },
          "metadata": {},
          "execution_count": 170
        }
      ],
      "source": [
        "df = pd.read_csv(\"dataset.csv\")\n",
        "df.head()"
      ]
    },
    {
      "cell_type": "code",
      "execution_count": null,
      "id": "826afc56",
      "metadata": {
        "colab": {
          "base_uri": "https://localhost:8080/"
        },
        "id": "826afc56",
        "outputId": "bdf06818-512e-446d-a184-663a55b3a024"
      },
      "outputs": [
        {
          "output_type": "execute_result",
          "data": {
            "text/plain": [
              "class              0\n",
              "age                0\n",
              "sex                0\n",
              "steroid            0\n",
              "antivirals         0\n",
              "fatigue            0\n",
              "malaise            0\n",
              "anorexia           0\n",
              "liver_big          0\n",
              "liver_firm         0\n",
              "spleen_palpable    0\n",
              "spiders            0\n",
              "ascites            0\n",
              "varices            0\n",
              "bilirubin          0\n",
              "alk_phosphate      0\n",
              "sgot               0\n",
              "albumin            0\n",
              "protime            0\n",
              "histology          0\n",
              "dtype: int64"
            ]
          },
          "metadata": {},
          "execution_count": 171
        }
      ],
      "source": [
        "df.isna().sum()"
      ]
    },
    {
      "cell_type": "markdown",
      "id": "120782ae",
      "metadata": {
        "id": "120782ae"
      },
      "source": [
        "This means that the data imported is independent of any null values"
      ]
    },
    {
      "cell_type": "code",
      "execution_count": null,
      "id": "f395001c",
      "metadata": {
        "colab": {
          "base_uri": "https://localhost:8080/",
          "height": 270
        },
        "id": "f395001c",
        "outputId": "dea23e20-044c-43fe-da30-d0435d64d3f3"
      },
      "outputs": [
        {
          "output_type": "execute_result",
          "data": {
            "text/plain": [
              "   class  age  sex  steroid  antivirals  fatigue  malaise  anorexia  \\\n",
              "0      2   30    2        1           2        2        2         2   \n",
              "1      2   50    1        1           2        1        2         2   \n",
              "2      2   78    1        2           2        1        2         2   \n",
              "3      2   31    1        0           1        2        2         2   \n",
              "4      2   34    1        2           2        2        2         2   \n",
              "\n",
              "   liver_big  liver_firm  spleen_palpable  spiders  ascites  varices  \\\n",
              "0          1           2                2        2        2        2   \n",
              "1          1           2                2        2        2        2   \n",
              "2          2           2                2        2        2        2   \n",
              "3          2           2                2        2        2        2   \n",
              "4          2           2                2        2        2        2   \n",
              "\n",
              "   bilirubin  alk_phosphate  sgot  albumin  protime  histology  \n",
              "0        1.0             85    18      4.0        0          1  \n",
              "1        0.9            135    42      3.5        0          1  \n",
              "2        0.7             96    32      4.0        0          1  \n",
              "3        0.7             46    52      4.0       80          1  \n",
              "4        1.0              0   200      4.0        0          1  "
            ],
            "text/html": [
              "\n",
              "  <div id=\"df-891b914a-4ebf-41b8-9b15-503ae18394d7\">\n",
              "    <div class=\"colab-df-container\">\n",
              "      <div>\n",
              "<style scoped>\n",
              "    .dataframe tbody tr th:only-of-type {\n",
              "        vertical-align: middle;\n",
              "    }\n",
              "\n",
              "    .dataframe tbody tr th {\n",
              "        vertical-align: top;\n",
              "    }\n",
              "\n",
              "    .dataframe thead th {\n",
              "        text-align: right;\n",
              "    }\n",
              "</style>\n",
              "<table border=\"1\" class=\"dataframe\">\n",
              "  <thead>\n",
              "    <tr style=\"text-align: right;\">\n",
              "      <th></th>\n",
              "      <th>class</th>\n",
              "      <th>age</th>\n",
              "      <th>sex</th>\n",
              "      <th>steroid</th>\n",
              "      <th>antivirals</th>\n",
              "      <th>fatigue</th>\n",
              "      <th>malaise</th>\n",
              "      <th>anorexia</th>\n",
              "      <th>liver_big</th>\n",
              "      <th>liver_firm</th>\n",
              "      <th>spleen_palpable</th>\n",
              "      <th>spiders</th>\n",
              "      <th>ascites</th>\n",
              "      <th>varices</th>\n",
              "      <th>bilirubin</th>\n",
              "      <th>alk_phosphate</th>\n",
              "      <th>sgot</th>\n",
              "      <th>albumin</th>\n",
              "      <th>protime</th>\n",
              "      <th>histology</th>\n",
              "    </tr>\n",
              "  </thead>\n",
              "  <tbody>\n",
              "    <tr>\n",
              "      <th>0</th>\n",
              "      <td>2</td>\n",
              "      <td>30</td>\n",
              "      <td>2</td>\n",
              "      <td>1</td>\n",
              "      <td>2</td>\n",
              "      <td>2</td>\n",
              "      <td>2</td>\n",
              "      <td>2</td>\n",
              "      <td>1</td>\n",
              "      <td>2</td>\n",
              "      <td>2</td>\n",
              "      <td>2</td>\n",
              "      <td>2</td>\n",
              "      <td>2</td>\n",
              "      <td>1.0</td>\n",
              "      <td>85</td>\n",
              "      <td>18</td>\n",
              "      <td>4.0</td>\n",
              "      <td>0</td>\n",
              "      <td>1</td>\n",
              "    </tr>\n",
              "    <tr>\n",
              "      <th>1</th>\n",
              "      <td>2</td>\n",
              "      <td>50</td>\n",
              "      <td>1</td>\n",
              "      <td>1</td>\n",
              "      <td>2</td>\n",
              "      <td>1</td>\n",
              "      <td>2</td>\n",
              "      <td>2</td>\n",
              "      <td>1</td>\n",
              "      <td>2</td>\n",
              "      <td>2</td>\n",
              "      <td>2</td>\n",
              "      <td>2</td>\n",
              "      <td>2</td>\n",
              "      <td>0.9</td>\n",
              "      <td>135</td>\n",
              "      <td>42</td>\n",
              "      <td>3.5</td>\n",
              "      <td>0</td>\n",
              "      <td>1</td>\n",
              "    </tr>\n",
              "    <tr>\n",
              "      <th>2</th>\n",
              "      <td>2</td>\n",
              "      <td>78</td>\n",
              "      <td>1</td>\n",
              "      <td>2</td>\n",
              "      <td>2</td>\n",
              "      <td>1</td>\n",
              "      <td>2</td>\n",
              "      <td>2</td>\n",
              "      <td>2</td>\n",
              "      <td>2</td>\n",
              "      <td>2</td>\n",
              "      <td>2</td>\n",
              "      <td>2</td>\n",
              "      <td>2</td>\n",
              "      <td>0.7</td>\n",
              "      <td>96</td>\n",
              "      <td>32</td>\n",
              "      <td>4.0</td>\n",
              "      <td>0</td>\n",
              "      <td>1</td>\n",
              "    </tr>\n",
              "    <tr>\n",
              "      <th>3</th>\n",
              "      <td>2</td>\n",
              "      <td>31</td>\n",
              "      <td>1</td>\n",
              "      <td>0</td>\n",
              "      <td>1</td>\n",
              "      <td>2</td>\n",
              "      <td>2</td>\n",
              "      <td>2</td>\n",
              "      <td>2</td>\n",
              "      <td>2</td>\n",
              "      <td>2</td>\n",
              "      <td>2</td>\n",
              "      <td>2</td>\n",
              "      <td>2</td>\n",
              "      <td>0.7</td>\n",
              "      <td>46</td>\n",
              "      <td>52</td>\n",
              "      <td>4.0</td>\n",
              "      <td>80</td>\n",
              "      <td>1</td>\n",
              "    </tr>\n",
              "    <tr>\n",
              "      <th>4</th>\n",
              "      <td>2</td>\n",
              "      <td>34</td>\n",
              "      <td>1</td>\n",
              "      <td>2</td>\n",
              "      <td>2</td>\n",
              "      <td>2</td>\n",
              "      <td>2</td>\n",
              "      <td>2</td>\n",
              "      <td>2</td>\n",
              "      <td>2</td>\n",
              "      <td>2</td>\n",
              "      <td>2</td>\n",
              "      <td>2</td>\n",
              "      <td>2</td>\n",
              "      <td>1.0</td>\n",
              "      <td>0</td>\n",
              "      <td>200</td>\n",
              "      <td>4.0</td>\n",
              "      <td>0</td>\n",
              "      <td>1</td>\n",
              "    </tr>\n",
              "  </tbody>\n",
              "</table>\n",
              "</div>\n",
              "      <button class=\"colab-df-convert\" onclick=\"convertToInteractive('df-891b914a-4ebf-41b8-9b15-503ae18394d7')\"\n",
              "              title=\"Convert this dataframe to an interactive table.\"\n",
              "              style=\"display:none;\">\n",
              "        \n",
              "  <svg xmlns=\"http://www.w3.org/2000/svg\" height=\"24px\"viewBox=\"0 0 24 24\"\n",
              "       width=\"24px\">\n",
              "    <path d=\"M0 0h24v24H0V0z\" fill=\"none\"/>\n",
              "    <path d=\"M18.56 5.44l.94 2.06.94-2.06 2.06-.94-2.06-.94-.94-2.06-.94 2.06-2.06.94zm-11 1L8.5 8.5l.94-2.06 2.06-.94-2.06-.94L8.5 2.5l-.94 2.06-2.06.94zm10 10l.94 2.06.94-2.06 2.06-.94-2.06-.94-.94-2.06-.94 2.06-2.06.94z\"/><path d=\"M17.41 7.96l-1.37-1.37c-.4-.4-.92-.59-1.43-.59-.52 0-1.04.2-1.43.59L10.3 9.45l-7.72 7.72c-.78.78-.78 2.05 0 2.83L4 21.41c.39.39.9.59 1.41.59.51 0 1.02-.2 1.41-.59l7.78-7.78 2.81-2.81c.8-.78.8-2.07 0-2.86zM5.41 20L4 18.59l7.72-7.72 1.47 1.35L5.41 20z\"/>\n",
              "  </svg>\n",
              "      </button>\n",
              "      \n",
              "  <style>\n",
              "    .colab-df-container {\n",
              "      display:flex;\n",
              "      flex-wrap:wrap;\n",
              "      gap: 12px;\n",
              "    }\n",
              "\n",
              "    .colab-df-convert {\n",
              "      background-color: #E8F0FE;\n",
              "      border: none;\n",
              "      border-radius: 50%;\n",
              "      cursor: pointer;\n",
              "      display: none;\n",
              "      fill: #1967D2;\n",
              "      height: 32px;\n",
              "      padding: 0 0 0 0;\n",
              "      width: 32px;\n",
              "    }\n",
              "\n",
              "    .colab-df-convert:hover {\n",
              "      background-color: #E2EBFA;\n",
              "      box-shadow: 0px 1px 2px rgba(60, 64, 67, 0.3), 0px 1px 3px 1px rgba(60, 64, 67, 0.15);\n",
              "      fill: #174EA6;\n",
              "    }\n",
              "\n",
              "    [theme=dark] .colab-df-convert {\n",
              "      background-color: #3B4455;\n",
              "      fill: #D2E3FC;\n",
              "    }\n",
              "\n",
              "    [theme=dark] .colab-df-convert:hover {\n",
              "      background-color: #434B5C;\n",
              "      box-shadow: 0px 1px 3px 1px rgba(0, 0, 0, 0.15);\n",
              "      filter: drop-shadow(0px 1px 2px rgba(0, 0, 0, 0.3));\n",
              "      fill: #FFFFFF;\n",
              "    }\n",
              "  </style>\n",
              "\n",
              "      <script>\n",
              "        const buttonEl =\n",
              "          document.querySelector('#df-891b914a-4ebf-41b8-9b15-503ae18394d7 button.colab-df-convert');\n",
              "        buttonEl.style.display =\n",
              "          google.colab.kernel.accessAllowed ? 'block' : 'none';\n",
              "\n",
              "        async function convertToInteractive(key) {\n",
              "          const element = document.querySelector('#df-891b914a-4ebf-41b8-9b15-503ae18394d7');\n",
              "          const dataTable =\n",
              "            await google.colab.kernel.invokeFunction('convertToInteractive',\n",
              "                                                     [key], {});\n",
              "          if (!dataTable) return;\n",
              "\n",
              "          const docLinkHtml = 'Like what you see? Visit the ' +\n",
              "            '<a target=\"_blank\" href=https://colab.research.google.com/notebooks/data_table.ipynb>data table notebook</a>'\n",
              "            + ' to learn more about interactive tables.';\n",
              "          element.innerHTML = '';\n",
              "          dataTable['output_type'] = 'display_data';\n",
              "          await google.colab.output.renderOutput(dataTable, element);\n",
              "          const docLink = document.createElement('div');\n",
              "          docLink.innerHTML = docLinkHtml;\n",
              "          element.appendChild(docLink);\n",
              "        }\n",
              "      </script>\n",
              "    </div>\n",
              "  </div>\n",
              "  "
            ]
          },
          "metadata": {},
          "execution_count": 172
        }
      ],
      "source": [
        "df.head()"
      ]
    },
    {
      "cell_type": "code",
      "execution_count": null,
      "id": "b4c8b5a9",
      "metadata": {
        "colab": {
          "base_uri": "https://localhost:8080/"
        },
        "id": "b4c8b5a9",
        "outputId": "5b3a0895-4013-4873-86fd-204e4f588308"
      },
      "outputs": [
        {
          "output_type": "execute_result",
          "data": {
            "text/plain": [
              "Index(['class', 'age', 'sex', 'steroid', 'antivirals', 'fatigue', 'malaise',\n",
              "       'anorexia', 'liver_big', 'liver_firm', 'spleen_palpable', 'spiders',\n",
              "       'ascites', 'varices', 'bilirubin', 'alk_phosphate', 'sgot', 'albumin',\n",
              "       'protime', 'histology'],\n",
              "      dtype='object')"
            ]
          },
          "metadata": {},
          "execution_count": 173
        }
      ],
      "source": [
        "df.columns"
      ]
    },
    {
      "cell_type": "code",
      "execution_count": null,
      "id": "b526f896",
      "metadata": {
        "colab": {
          "base_uri": "https://localhost:8080/"
        },
        "id": "b526f896",
        "outputId": "c7867977-8b15-48bd-9016-ad52a2dfd9fa"
      },
      "outputs": [
        {
          "output_type": "execute_result",
          "data": {
            "text/plain": [
              "class              155\n",
              "age                155\n",
              "sex                155\n",
              "steroid            155\n",
              "antivirals         155\n",
              "fatigue            155\n",
              "malaise            155\n",
              "anorexia           155\n",
              "liver_big          155\n",
              "liver_firm         155\n",
              "spleen_palpable    155\n",
              "spiders            155\n",
              "ascites            155\n",
              "varices            155\n",
              "bilirubin          155\n",
              "alk_phosphate      155\n",
              "sgot               155\n",
              "albumin            155\n",
              "protime            155\n",
              "histology          155\n",
              "dtype: int64"
            ]
          },
          "metadata": {},
          "execution_count": 174
        }
      ],
      "source": [
        "df.count()"
      ]
    },
    {
      "cell_type": "markdown",
      "id": "e30eaed6",
      "metadata": {
        "id": "e30eaed6"
      },
      "source": [
        "# Exploratory Data Analysis"
      ]
    },
    {
      "cell_type": "code",
      "execution_count": null,
      "id": "5308a573",
      "metadata": {
        "colab": {
          "base_uri": "https://localhost:8080/"
        },
        "id": "5308a573",
        "outputId": "53dc7caa-9b71-4875-f4d7-de43e9319956"
      },
      "outputs": [
        {
          "output_type": "execute_result",
          "data": {
            "text/plain": [
              "2    123\n",
              "1     32\n",
              "Name: class, dtype: int64"
            ]
          },
          "metadata": {},
          "execution_count": 175
        }
      ],
      "source": [
        "df['class'].value_counts()"
      ]
    },
    {
      "cell_type": "code",
      "execution_count": null,
      "id": "999896ba",
      "metadata": {
        "colab": {
          "base_uri": "https://localhost:8080/",
          "height": 265
        },
        "id": "999896ba",
        "outputId": "87c20ad2-dcee-4bd4-8da0-fede723aef6e"
      },
      "outputs": [
        {
          "output_type": "display_data",
          "data": {
            "text/plain": [
              "<Figure size 432x288 with 1 Axes>"
            ],
            "image/png": "[encoded data removed]"
          },
          "metadata": {
            "needs_background": "light"
          }
        }
      ],
      "source": [
        "plt.hist(df['class'])\n",
        "plt.xticks = [1,2]\n",
        "plt.show()"
      ]
    },
    {
      "cell_type": "code",
      "execution_count": null,
      "id": "88a73b2b",
      "metadata": {
        "colab": {
          "base_uri": "https://localhost:8080/"
        },
        "id": "88a73b2b",
        "outputId": "054a61f5-1da7-4383-b0ac-1ceeea84d950"
      },
      "outputs": [
        {
          "output_type": "execute_result",
          "data": {
            "text/plain": [
              "array([2, 1])"
            ]
          },
          "metadata": {},
          "execution_count": 177
        }
      ],
      "source": [
        "df['class'].unique()"
      ]
    },
    {
      "cell_type": "code",
      "execution_count": null,
      "id": "45e485fd",
      "metadata": {
        "colab": {
          "base_uri": "https://localhost:8080/"
        },
        "id": "45e485fd",
        "outputId": "a6405e07-6bcf-473f-9740-b3a17dab0c5d"
      },
      "outputs": [
        {
          "output_type": "execute_result",
          "data": {
            "text/plain": [
              "class                int64\n",
              "age                  int64\n",
              "sex                  int64\n",
              "steroid              int64\n",
              "antivirals           int64\n",
              "fatigue              int64\n",
              "malaise              int64\n",
              "anorexia             int64\n",
              "liver_big            int64\n",
              "liver_firm           int64\n",
              "spleen_palpable      int64\n",
              "spiders              int64\n",
              "ascites              int64\n",
              "varices              int64\n",
              "bilirubin          float64\n",
              "alk_phosphate        int64\n",
              "sgot                 int64\n",
              "albumin            float64\n",
              "protime              int64\n",
              "histology            int64\n",
              "dtype: object"
            ]
          },
          "metadata": {},
          "execution_count": 178
        }
      ],
      "source": [
        "df.dtypes"
      ]
    },
    {
      "cell_type": "code",
      "execution_count": null,
      "id": "1e8afee3",
      "metadata": {
        "colab": {
          "base_uri": "https://localhost:8080/",
          "height": 207
        },
        "id": "1e8afee3",
        "outputId": "09003c9a-204e-486b-93e9-45f20f8ac56f"
      },
      "outputs": [
        {
          "output_type": "execute_result",
          "data": {
            "text/plain": [
              "        age  sex  steroid  antivirals  fatigue  malaise  anorexia  liver_big  \\\n",
              "class                                                                          \n",
              "1      46.5  1.0      1.0         2.0      1.0      1.0       2.0        2.0   \n",
              "2      38.0  1.0      2.0         2.0      1.0      2.0       2.0        2.0   \n",
              "\n",
              "       liver_firm  spleen_palpable  spiders  ascites  varices  bilirubin  \\\n",
              "class                                                                      \n",
              "1             1.0              2.0      1.0      2.0      2.0        1.8   \n",
              "2             2.0              2.0      2.0      2.0      2.0        1.0   \n",
              "\n",
              "       alk_phosphate  sgot  albumin  protime  histology  \n",
              "class                                                    \n",
              "1               88.0  62.0      2.9     30.5        2.0  \n",
              "2               81.0  54.0      4.0     46.0        1.0  "
            ],
            "text/html": [
              "\n",
              "  <div id=\"df-ea0ed8f4-01aa-4ebf-874e-3204f72177b5\">\n",
              "    <div class=\"colab-df-container\">\n",
              "      <div>\n",
              "<style scoped>\n",
              "    .dataframe tbody tr th:only-of-type {\n",
              "        vertical-align: middle;\n",
              "    }\n",
              "\n",
              "    .dataframe tbody tr th {\n",
              "        vertical-align: top;\n",
              "    }\n",
              "\n",
              "    .dataframe thead th {\n",
              "        text-align: right;\n",
              "    }\n",
              "</style>\n",
              "<table border=\"1\" class=\"dataframe\">\n",
              "  <thead>\n",
              "    <tr style=\"text-align: right;\">\n",
              "      <th></th>\n",
              "      <th>age</th>\n",
              "      <th>sex</th>\n",
              "      <th>steroid</th>\n",
              "      <th>antivirals</th>\n",
              "      <th>fatigue</th>\n",
              "      <th>malaise</th>\n",
              "      <th>anorexia</th>\n",
              "      <th>liver_big</th>\n",
              "      <th>liver_firm</th>\n",
              "      <th>spleen_palpable</th>\n",
              "      <th>spiders</th>\n",
              "      <th>ascites</th>\n",
              "      <th>varices</th>\n",
              "      <th>bilirubin</th>\n",
              "      <th>alk_phosphate</th>\n",
              "      <th>sgot</th>\n",
              "      <th>albumin</th>\n",
              "      <th>protime</th>\n",
              "      <th>histology</th>\n",
              "    </tr>\n",
              "    <tr>\n",
              "      <th>class</th>\n",
              "      <th></th>\n",
              "      <th></th>\n",
              "      <th></th>\n",
              "      <th></th>\n",
              "      <th></th>\n",
              "      <th></th>\n",
              "      <th></th>\n",
              "      <th></th>\n",
              "      <th></th>\n",
              "      <th></th>\n",
              "      <th></th>\n",
              "      <th></th>\n",
              "      <th></th>\n",
              "      <th></th>\n",
              "      <th></th>\n",
              "      <th></th>\n",
              "      <th></th>\n",
              "      <th></th>\n",
              "      <th></th>\n",
              "    </tr>\n",
              "  </thead>\n",
              "  <tbody>\n",
              "    <tr>\n",
              "      <th>1</th>\n",
              "      <td>46.5</td>\n",
              "      <td>1.0</td>\n",
              "      <td>1.0</td>\n",
              "      <td>2.0</td>\n",
              "      <td>1.0</td>\n",
              "      <td>1.0</td>\n",
              "      <td>2.0</td>\n",
              "      <td>2.0</td>\n",
              "      <td>1.0</td>\n",
              "      <td>2.0</td>\n",
              "      <td>1.0</td>\n",
              "      <td>2.0</td>\n",
              "      <td>2.0</td>\n",
              "      <td>1.8</td>\n",
              "      <td>88.0</td>\n",
              "      <td>62.0</td>\n",
              "      <td>2.9</td>\n",
              "      <td>30.5</td>\n",
              "      <td>2.0</td>\n",
              "    </tr>\n",
              "    <tr>\n",
              "      <th>2</th>\n",
              "      <td>38.0</td>\n",
              "      <td>1.0</td>\n",
              "      <td>2.0</td>\n",
              "      <td>2.0</td>\n",
              "      <td>1.0</td>\n",
              "      <td>2.0</td>\n",
              "      <td>2.0</td>\n",
              "      <td>2.0</td>\n",
              "      <td>2.0</td>\n",
              "      <td>2.0</td>\n",
              "      <td>2.0</td>\n",
              "      <td>2.0</td>\n",
              "      <td>2.0</td>\n",
              "      <td>1.0</td>\n",
              "      <td>81.0</td>\n",
              "      <td>54.0</td>\n",
              "      <td>4.0</td>\n",
              "      <td>46.0</td>\n",
              "      <td>1.0</td>\n",
              "    </tr>\n",
              "  </tbody>\n",
              "</table>\n",
              "</div>\n",
              "      <button class=\"colab-df-convert\" onclick=\"convertToInteractive('df-ea0ed8f4-01aa-4ebf-874e-3204f72177b5')\"\n",
              "              title=\"Convert this dataframe to an interactive table.\"\n",
              "              style=\"display:none;\">\n",
              "        \n",
              "  <svg xmlns=\"http://www.w3.org/2000/svg\" height=\"24px\"viewBox=\"0 0 24 24\"\n",
              "       width=\"24px\">\n",
              "    <path d=\"M0 0h24v24H0V0z\" fill=\"none\"/>\n",
              "    <path d=\"M18.56 5.44l.94 2.06.94-2.06 2.06-.94-2.06-.94-.94-2.06-.94 2.06-2.06.94zm-11 1L8.5 8.5l.94-2.06 2.06-.94-2.06-.94L8.5 2.5l-.94 2.06-2.06.94zm10 10l.94 2.06.94-2.06 2.06-.94-2.06-.94-.94-2.06-.94 2.06-2.06.94z\"/><path d=\"M17.41 7.96l-1.37-1.37c-.4-.4-.92-.59-1.43-.59-.52 0-1.04.2-1.43.59L10.3 9.45l-7.72 7.72c-.78.78-.78 2.05 0 2.83L4 21.41c.39.39.9.59 1.41.59.51 0 1.02-.2 1.41-.59l7.78-7.78 2.81-2.81c.8-.78.8-2.07 0-2.86zM5.41 20L4 18.59l7.72-7.72 1.47 1.35L5.41 20z\"/>\n",
              "  </svg>\n",
              "      </button>\n",
              "      \n",
              "  <style>\n",
              "    .colab-df-container {\n",
              "      display:flex;\n",
              "      flex-wrap:wrap;\n",
              "      gap: 12px;\n",
              "    }\n",
              "\n",
              "    .colab-df-convert {\n",
              "      background-color: #E8F0FE;\n",
              "      border: none;\n",
              "      border-radius: 50%;\n",
              "      cursor: pointer;\n",
              "      display: none;\n",
              "      fill: #1967D2;\n",
              "      height: 32px;\n",
              "      padding: 0 0 0 0;\n",
              "      width: 32px;\n",
              "    }\n",
              "\n",
              "    .colab-df-convert:hover {\n",
              "      background-color: #E2EBFA;\n",
              "      box-shadow: 0px 1px 2px rgba(60, 64, 67, 0.3), 0px 1px 3px 1px rgba(60, 64, 67, 0.15);\n",
              "      fill: #174EA6;\n",
              "    }\n",
              "\n",
              "    [theme=dark] .colab-df-convert {\n",
              "      background-color: #3B4455;\n",
              "      fill: #D2E3FC;\n",
              "    }\n",
              "\n",
              "    [theme=dark] .colab-df-convert:hover {\n",
              "      background-color: #434B5C;\n",
              "      box-shadow: 0px 1px 3px 1px rgba(0, 0, 0, 0.15);\n",
              "      filter: drop-shadow(0px 1px 2px rgba(0, 0, 0, 0.3));\n",
              "      fill: #FFFFFF;\n",
              "    }\n",
              "  </style>\n",
              "\n",
              "      <script>\n",
              "        const buttonEl =\n",
              "          document.querySelector('#df-ea0ed8f4-01aa-4ebf-874e-3204f72177b5 button.colab-df-convert');\n",
              "        buttonEl.style.display =\n",
              "          google.colab.kernel.accessAllowed ? 'block' : 'none';\n",
              "\n",
              "        async function convertToInteractive(key) {\n",
              "          const element = document.querySelector('#df-ea0ed8f4-01aa-4ebf-874e-3204f72177b5');\n",
              "          const dataTable =\n",
              "            await google.colab.kernel.invokeFunction('convertToInteractive',\n",
              "                                                     [key], {});\n",
              "          if (!dataTable) return;\n",
              "\n",
              "          const docLinkHtml = 'Like what you see? Visit the ' +\n",
              "            '<a target=\"_blank\" href=https://colab.research.google.com/notebooks/data_table.ipynb>data table notebook</a>'\n",
              "            + ' to learn more about interactive tables.';\n",
              "          element.innerHTML = '';\n",
              "          dataTable['output_type'] = 'display_data';\n",
              "          await google.colab.output.renderOutput(dataTable, element);\n",
              "          const docLink = document.createElement('div');\n",
              "          docLink.innerHTML = docLinkHtml;\n",
              "          element.appendChild(docLink);\n",
              "        }\n",
              "      </script>\n",
              "    </div>\n",
              "  </div>\n",
              "  "
            ]
          },
          "metadata": {},
          "execution_count": 179
        }
      ],
      "source": [
        "df.groupby(['class']).median()"
      ]
    },
    {
      "cell_type": "code",
      "execution_count": null,
      "id": "620051fa",
      "metadata": {
        "colab": {
          "base_uri": "https://localhost:8080/"
        },
        "id": "620051fa",
        "outputId": "7cd9ee85-78e7-4c0d-c8d0-0fcf3f0397c0"
      },
      "outputs": [
        {
          "output_type": "execute_result",
          "data": {
            "text/plain": [
              "Index(['class', 'age', 'sex', 'steroid', 'antivirals', 'fatigue', 'malaise',\n",
              "       'anorexia', 'liver_big', 'liver_firm', 'spleen_palpable', 'spiders',\n",
              "       'ascites', 'varices', 'bilirubin', 'alk_phosphate', 'sgot', 'albumin',\n",
              "       'protime', 'histology'],\n",
              "      dtype='object')"
            ]
          },
          "metadata": {},
          "execution_count": 180
        }
      ],
      "source": [
        "df.columns"
      ]
    },
    {
      "cell_type": "code",
      "execution_count": null,
      "id": "6adf6b03",
      "metadata": {
        "colab": {
          "base_uri": "https://localhost:8080/",
          "height": 265
        },
        "id": "6adf6b03",
        "outputId": "000f6bec-d7bd-44f1-f580-c59dfee7755c"
      },
      "outputs": [
        {
          "output_type": "display_data",
          "data": {
            "text/plain": [
              "<Figure size 432x288 with 1 Axes>"
            ],
            "image/png": "[encoded data removed]"
          },
          "metadata": {
            "needs_background": "light"
          }
        }
      ],
      "source": [
        "plt.scatter(df.age, df['class'], )\n",
        "plt.show()"
      ]
    },
    {
      "cell_type": "code",
      "execution_count": null,
      "id": "f01fc01e",
      "metadata": {
        "colab": {
          "base_uri": "https://localhost:8080/",
          "height": 248
        },
        "id": "f01fc01e",
        "outputId": "86f30d6b-c7d0-4c70-d49b-2f2393b9a30d"
      },
      "outputs": [
        {
          "output_type": "display_data",
          "data": {
            "text/plain": [
              "<Figure size 432x288 with 1 Axes>"
            ],
            "image/png": "[encoded data removed]"
          },
          "metadata": {}
        }
      ],
      "source": [
        "total = np.sum(df['class'].value_counts())\n",
        "plt.pie(df['class'].value_counts(),labels =[f'{round((x/total)*100, 2)}%' for x in df['class'].value_counts()], shadow = True)\n",
        "plt.legend(['Live', 'Deceased'], loc = 'right')\n",
        "plt.show()"
      ]
    },
    {
      "cell_type": "markdown",
      "id": "cfcc618d",
      "metadata": {
        "id": "cfcc618d"
      },
      "source": [
        "We can see that mortality rate is significant for this disease."
      ]
    },
    {
      "cell_type": "code",
      "execution_count": null,
      "id": "9e0c8f76",
      "metadata": {
        "colab": {
          "base_uri": "https://localhost:8080/"
        },
        "id": "9e0c8f76",
        "outputId": "a3101da2-c24f-4889-b280-ebf285a02b55"
      },
      "outputs": [
        {
          "output_type": "execute_result",
          "data": {
            "text/plain": [
              "1    139\n",
              "2     16\n",
              "Name: sex, dtype: int64"
            ]
          },
          "metadata": {},
          "execution_count": 183
        }
      ],
      "source": [
        "df.sex.value_counts()"
      ]
    },
    {
      "cell_type": "code",
      "source": [
        "df.shape"
      ],
      "metadata": {
        "colab": {
          "base_uri": "https://localhost:8080/"
        },
        "id": "axzG6ft4JWgz",
        "outputId": "009b560e-d2c2-4a69-ad64-12a461fc7530"
      },
      "id": "axzG6ft4JWgz",
      "execution_count": null,
      "outputs": [
        {
          "output_type": "execute_result",
          "data": {
            "text/plain": [
              "(155, 20)"
            ]
          },
          "metadata": {},
          "execution_count": 184
        }
      ]
    },
    {
      "cell_type": "code",
      "execution_count": null,
      "id": "84a500a1",
      "metadata": {
        "colab": {
          "base_uri": "https://localhost:8080/"
        },
        "id": "84a500a1",
        "outputId": "97673d7b-514f-4ed2-9ed9-6fd27325e7c7"
      },
      "outputs": [
        {
          "output_type": "execute_result",
          "data": {
            "text/plain": [
              "count    155.000000\n",
              "mean      41.200000\n",
              "std       12.565878\n",
              "min        7.000000\n",
              "25%       32.000000\n",
              "50%       39.000000\n",
              "75%       50.000000\n",
              "max       78.000000\n",
              "Name: age, dtype: float64"
            ]
          },
          "metadata": {},
          "execution_count": 185
        }
      ],
      "source": [
        "df.age.describe()"
      ]
    },
    {
      "cell_type": "markdown",
      "id": "e6c00443",
      "metadata": {
        "id": "e6c00443"
      },
      "source": [
        "Here we can see min age of the patients is 7 and max is 78 thus this disease occours to adults of ages between 30 to 65"
      ]
    },
    {
      "cell_type": "code",
      "execution_count": null,
      "id": "01693441",
      "metadata": {
        "id": "01693441"
      },
      "outputs": [],
      "source": [
        "age_vs_count = df.groupby(pd.cut(df.age, bins = [0,10,20,30,40,50,60,70,80], labels = ['0 - 10','10 - 20','20 - 30','30 - 40', '40 - 50', '50 - 60', '60 - 70','70 - 80'])).size().reset_index(name = 'count')"
      ]
    },
    {
      "cell_type": "code",
      "execution_count": null,
      "id": "6e9252d1",
      "metadata": {
        "colab": {
          "base_uri": "https://localhost:8080/",
          "height": 265
        },
        "id": "6e9252d1",
        "outputId": "f8d7dcb3-23bf-4c76-b772-6d99f4b15584"
      },
      "outputs": [
        {
          "output_type": "display_data",
          "data": {
            "text/plain": [
              "<Figure size 432x288 with 1 Axes>"
            ],
            "image/png": "[encoded data removed]"
          },
          "metadata": {
            "needs_background": "light"
          }
        }
      ],
      "source": [
        "plt.bar(age_vs_count['age'], age_vs_count['count'])\n",
        "plt.show()"
      ]
    },
    {
      "cell_type": "markdown",
      "source": [
        "Thus we can say that people between 30 to 40 years are more prone to get this disease."
      ],
      "metadata": {
        "id": "ong5EMPdIO9P"
      },
      "id": "ong5EMPdIO9P"
    },
    {
      "cell_type": "code",
      "execution_count": null,
      "id": "5620d9fd",
      "metadata": {
        "colab": {
          "base_uri": "https://localhost:8080/",
          "height": 300
        },
        "id": "5620d9fd",
        "outputId": "170a9a4d-7ebb-4c5e-cb4e-d32078efb42c"
      },
      "outputs": [
        {
          "output_type": "execute_result",
          "data": {
            "text/plain": [
              "       age  count\n",
              "0   0 - 10      1\n",
              "1  10 - 20      3\n",
              "2  20 - 30     29\n",
              "3  30 - 40     50\n",
              "4  40 - 50     35\n",
              "5  50 - 60     24\n",
              "6  60 - 70     11\n",
              "7  70 - 80      2"
            ],
            "text/html": [
              "\n",
              "  <div id=\"df-f779aebb-6b6b-4823-858f-6f3bad7ce59a\">\n",
              "    <div class=\"colab-df-container\">\n",
              "      <div>\n",
              "<style scoped>\n",
              "    .dataframe tbody tr th:only-of-type {\n",
              "        vertical-align: middle;\n",
              "    }\n",
              "\n",
              "    .dataframe tbody tr th {\n",
              "        vertical-align: top;\n",
              "    }\n",
              "\n",
              "    .dataframe thead th {\n",
              "        text-align: right;\n",
              "    }\n",
              "</style>\n",
              "<table border=\"1\" class=\"dataframe\">\n",
              "  <thead>\n",
              "    <tr style=\"text-align: right;\">\n",
              "      <th></th>\n",
              "      <th>age</th>\n",
              "      <th>count</th>\n",
              "    </tr>\n",
              "  </thead>\n",
              "  <tbody>\n",
              "    <tr>\n",
              "      <th>0</th>\n",
              "      <td>0 - 10</td>\n",
              "      <td>1</td>\n",
              "    </tr>\n",
              "    <tr>\n",
              "      <th>1</th>\n",
              "      <td>10 - 20</td>\n",
              "      <td>3</td>\n",
              "    </tr>\n",
              "    <tr>\n",
              "      <th>2</th>\n",
              "      <td>20 - 30</td>\n",
              "      <td>29</td>\n",
              "    </tr>\n",
              "    <tr>\n",
              "      <th>3</th>\n",
              "      <td>30 - 40</td>\n",
              "      <td>50</td>\n",
              "    </tr>\n",
              "    <tr>\n",
              "      <th>4</th>\n",
              "      <td>40 - 50</td>\n",
              "      <td>35</td>\n",
              "    </tr>\n",
              "    <tr>\n",
              "      <th>5</th>\n",
              "      <td>50 - 60</td>\n",
              "      <td>24</td>\n",
              "    </tr>\n",
              "    <tr>\n",
              "      <th>6</th>\n",
              "      <td>60 - 70</td>\n",
              "      <td>11</td>\n",
              "    </tr>\n",
              "    <tr>\n",
              "      <th>7</th>\n",
              "      <td>70 - 80</td>\n",
              "      <td>2</td>\n",
              "    </tr>\n",
              "  </tbody>\n",
              "</table>\n",
              "</div>\n",
              "      <button class=\"colab-df-convert\" onclick=\"convertToInteractive('df-f779aebb-6b6b-4823-858f-6f3bad7ce59a')\"\n",
              "              title=\"Convert this dataframe to an interactive table.\"\n",
              "              style=\"display:none;\">\n",
              "        \n",
              "  <svg xmlns=\"http://www.w3.org/2000/svg\" height=\"24px\"viewBox=\"0 0 24 24\"\n",
              "       width=\"24px\">\n",
              "    <path d=\"M0 0h24v24H0V0z\" fill=\"none\"/>\n",
              "    <path d=\"M18.56 5.44l.94 2.06.94-2.06 2.06-.94-2.06-.94-.94-2.06-.94 2.06-2.06.94zm-11 1L8.5 8.5l.94-2.06 2.06-.94-2.06-.94L8.5 2.5l-.94 2.06-2.06.94zm10 10l.94 2.06.94-2.06 2.06-.94-2.06-.94-.94-2.06-.94 2.06-2.06.94z\"/><path d=\"M17.41 7.96l-1.37-1.37c-.4-.4-.92-.59-1.43-.59-.52 0-1.04.2-1.43.59L10.3 9.45l-7.72 7.72c-.78.78-.78 2.05 0 2.83L4 21.41c.39.39.9.59 1.41.59.51 0 1.02-.2 1.41-.59l7.78-7.78 2.81-2.81c.8-.78.8-2.07 0-2.86zM5.41 20L4 18.59l7.72-7.72 1.47 1.35L5.41 20z\"/>\n",
              "  </svg>\n",
              "      </button>\n",
              "      \n",
              "  <style>\n",
              "    .colab-df-container {\n",
              "      display:flex;\n",
              "      flex-wrap:wrap;\n",
              "      gap: 12px;\n",
              "    }\n",
              "\n",
              "    .colab-df-convert {\n",
              "      background-color: #E8F0FE;\n",
              "      border: none;\n",
              "      border-radius: 50%;\n",
              "      cursor: pointer;\n",
              "      display: none;\n",
              "      fill: #1967D2;\n",
              "      height: 32px;\n",
              "      padding: 0 0 0 0;\n",
              "      width: 32px;\n",
              "    }\n",
              "\n",
              "    .colab-df-convert:hover {\n",
              "      background-color: #E2EBFA;\n",
              "      box-shadow: 0px 1px 2px rgba(60, 64, 67, 0.3), 0px 1px 3px 1px rgba(60, 64, 67, 0.15);\n",
              "      fill: #174EA6;\n",
              "    }\n",
              "\n",
              "    [theme=dark] .colab-df-convert {\n",
              "      background-color: #3B4455;\n",
              "      fill: #D2E3FC;\n",
              "    }\n",
              "\n",
              "    [theme=dark] .colab-df-convert:hover {\n",
              "      background-color: #434B5C;\n",
              "      box-shadow: 0px 1px 3px 1px rgba(0, 0, 0, 0.15);\n",
              "      filter: drop-shadow(0px 1px 2px rgba(0, 0, 0, 0.3));\n",
              "      fill: #FFFFFF;\n",
              "    }\n",
              "  </style>\n",
              "\n",
              "      <script>\n",
              "        const buttonEl =\n",
              "          document.querySelector('#df-f779aebb-6b6b-4823-858f-6f3bad7ce59a button.colab-df-convert');\n",
              "        buttonEl.style.display =\n",
              "          google.colab.kernel.accessAllowed ? 'block' : 'none';\n",
              "\n",
              "        async function convertToInteractive(key) {\n",
              "          const element = document.querySelector('#df-f779aebb-6b6b-4823-858f-6f3bad7ce59a');\n",
              "          const dataTable =\n",
              "            await google.colab.kernel.invokeFunction('convertToInteractive',\n",
              "                                                     [key], {});\n",
              "          if (!dataTable) return;\n",
              "\n",
              "          const docLinkHtml = 'Like what you see? Visit the ' +\n",
              "            '<a target=\"_blank\" href=https://colab.research.google.com/notebooks/data_table.ipynb>data table notebook</a>'\n",
              "            + ' to learn more about interactive tables.';\n",
              "          element.innerHTML = '';\n",
              "          dataTable['output_type'] = 'display_data';\n",
              "          await google.colab.output.renderOutput(dataTable, element);\n",
              "          const docLink = document.createElement('div');\n",
              "          docLink.innerHTML = docLinkHtml;\n",
              "          element.appendChild(docLink);\n",
              "        }\n",
              "      </script>\n",
              "    </div>\n",
              "  </div>\n",
              "  "
            ]
          },
          "metadata": {},
          "execution_count": 188
        }
      ],
      "source": [
        "age_vs_count"
      ]
    },
    {
      "cell_type": "markdown",
      "id": "558657ba",
      "metadata": {
        "id": "558657ba"
      },
      "source": [
        "# Checking for Outliers"
      ]
    },
    {
      "cell_type": "markdown",
      "id": "0740179f",
      "metadata": {
        "id": "0740179f"
      },
      "source": [
        "There can be various ways to check outliers:\n",
        "* Box Plot(Univariate)\n",
        "* Scatter Plot(Multivariate)\n",
        "* Z-score\n",
        "* Interquartile Range(IQR)"
      ]
    },
    {
      "cell_type": "markdown",
      "id": "172e2e77",
      "metadata": {
        "id": "172e2e77"
      },
      "source": [
        "### Using Boxplot"
      ]
    },
    {
      "cell_type": "code",
      "execution_count": null,
      "id": "1b6aeb0e",
      "metadata": {
        "id": "1b6aeb0e"
      },
      "outputs": [],
      "source": [
        "def boxplt(col):\n",
        "    sns.boxplot(x = col)\n",
        "    plt.show()"
      ]
    },
    {
      "cell_type": "code",
      "execution_count": null,
      "id": "d88fdef4",
      "metadata": {
        "colab": {
          "base_uri": "https://localhost:8080/",
          "height": 279
        },
        "id": "d88fdef4",
        "outputId": "379779b4-4686-444a-e0fe-a328ba380afb"
      },
      "outputs": [
        {
          "output_type": "display_data",
          "data": {
            "text/plain": [
              "<Figure size 432x288 with 1 Axes>"
            ],
            "image/png": "[encoded data removed]"
          },
          "metadata": {
            "needs_background": "light"
          }
        }
      ],
      "source": [
        "boxplt(df.age)"
      ]
    },
    {
      "cell_type": "code",
      "execution_count": null,
      "id": "900a8d5e",
      "metadata": {
        "colab": {
          "base_uri": "https://localhost:8080/"
        },
        "id": "900a8d5e",
        "outputId": "6b21115f-87f8-4830-93e7-c1bf212a83ee"
      },
      "outputs": [
        {
          "output_type": "execute_result",
          "data": {
            "text/plain": [
              "Index(['class', 'age', 'sex', 'steroid', 'antivirals', 'fatigue', 'malaise',\n",
              "       'anorexia', 'liver_big', 'liver_firm', 'spleen_palpable', 'spiders',\n",
              "       'ascites', 'varices', 'bilirubin', 'alk_phosphate', 'sgot', 'albumin',\n",
              "       'protime', 'histology'],\n",
              "      dtype='object')"
            ]
          },
          "metadata": {},
          "execution_count": 191
        }
      ],
      "source": [
        "df.columns"
      ]
    },
    {
      "cell_type": "code",
      "execution_count": null,
      "id": "e77bbd60",
      "metadata": {
        "id": "e77bbd60"
      },
      "outputs": [],
      "source": [
        "box = ['class', 'age', 'sex', 'steroid', 'antivirals', 'fatigue', 'malaise',\n",
        "       'anorexia', 'liver_big', 'liver_firm', 'spleen_palpable', 'spiders',\n",
        "       'ascites', 'varices', 'bilirubin', 'alk_phosphate', 'sgot', 'albumin',\n",
        "       'protime', 'histology']"
      ]
    },
    {
      "cell_type": "code",
      "execution_count": null,
      "id": "b8ec2898",
      "metadata": {
        "colab": {
          "base_uri": "https://localhost:8080/",
          "height": 1000
        },
        "id": "b8ec2898",
        "outputId": "26a304fb-2966-4d56-f8f6-703405520edc"
      },
      "outputs": [
        {
          "output_type": "display_data",
          "data": {
            "text/plain": [
              "<Figure size 432x288 with 1 Axes>"
            ],
            "image/png": "[encoded data removed]"
          },
          "metadata": {
            "needs_background": "light"
          }
        },
        {
          "output_type": "display_data",
          "data": {
            "text/plain": [
              "<Figure size 432x288 with 1 Axes>"
            ],
            "image/png": "[encoded data removed]"
          },
          "metadata": {
            "needs_background": "light"
          }
        },
        {
          "output_type": "display_data",
          "data": {
            "text/plain": [
              "<Figure size 432x288 with 1 Axes>"
            ],
            "image/png": "[encoded data removed]"
          },
          "metadata": {
            "needs_background": "light"
          }
        },
        {
          "output_type": "display_data",
          "data": {
            "text/plain": [
              "<Figure size 432x288 with 1 Axes>"
            ],
            "image/png": "[encoded data removed]"
          },
          "metadata": {
            "needs_background": "light"
          }
        },
        {
          "output_type": "display_data",
          "data": {
            "text/plain": [
              "<Figure size 432x288 with 1 Axes>"
            ],
            "image/png": "[encoded data removed]"
          },
          "metadata": {
            "needs_background": "light"
          }
        },
        {
          "output_type": "display_data",
          "data": {
            "text/plain": [
              "<Figure size 432x288 with 1 Axes>"
            ],
            "image/png": "[encoded data removed]"
          },
          "metadata": {
            "needs_background": "light"
          }
        },
        {
          "output_type": "display_data",
          "data": {
            "text/plain": [
              "<Figure size 432x288 with 1 Axes>"
            ],
            "image/png": "[encoded data removed]"
          },
          "metadata": {
            "needs_background": "light"
          }
        },
        {
          "output_type": "display_data",
          "data": {
            "text/plain": [
              "<Figure size 432x288 with 1 Axes>"
            ],
            "image/png": "[encoded data removed]"
          },
          "metadata": {
            "needs_background": "light"
          }
        },
        {
          "output_type": "display_data",
          "data": {
            "text/plain": [
              "<Figure size 432x288 with 1 Axes>"
            ],
            "image/png": "[encoded data removed]"
          },
          "metadata": {
            "needs_background": "light"
          }
        },
        {
          "output_type": "display_data",
          "data": {
            "text/plain": [
              "<Figure size 432x288 with 1 Axes>"
            ],
            "image/png": "[encoded data removed]"
          },
          "metadata": {
            "needs_background": "light"
          }
        },
        {
          "output_type": "display_data",
          "data": {
            "text/plain": [
              "<Figure size 432x288 with 1 Axes>"
            ],
            "image/png": "[encoded data removed]"
          },
          "metadata": {
            "needs_background": "light"
          }
        },
        {
          "output_type": "display_data",
          "data": {
            "text/plain": [
              "<Figure size 432x288 with 1 Axes>"
            ],
            "image/png": "[encoded data removed]"
          },
          "metadata": {
            "needs_background": "light"
          }
        },
        {
          "output_type": "display_data",
          "data": {
            "text/plain": [
              "<Figure size 432x288 with 1 Axes>"
            ],
            "image/png": "[encoded data removed]"
          },
          "metadata": {
            "needs_background": "light"
          }
        },
        {
          "output_type": "display_data",
          "data": {
            "text/plain": [
              "<Figure size 432x288 with 1 Axes>"
            ],
            "image/png": "[encoded data removed]"
          },
          "metadata": {
            "needs_background": "light"
          }
        },
        {
          "output_type": "display_data",
          "data": {
            "text/plain": [
              "<Figure size 432x288 with 1 Axes>"
            ],
            "image/png": "[encoded data removed]"
          },
          "metadata": {
            "needs_background": "light"
          }
        },
        {
          "output_type": "display_data",
          "data": {
            "text/plain": [
              "<Figure size 432x288 with 1 Axes>"
            ],
            "image/png": "[encoded data removed]"
          },
          "metadata": {
            "needs_background": "light"
          }
        },
        {
          "output_type": "display_data",
          "data": {
            "text/plain": [
              "<Figure size 432x288 with 1 Axes>"
            ],
            "image/png": "[encoded data removed]"
          },
          "metadata": {
            "needs_background": "light"
          }
        },
        {
          "output_type": "display_data",
          "data": {
            "text/plain": [
              "<Figure size 432x288 with 1 Axes>"
            ],
            "image/png": "[encoded data removed]"
          },
          "metadata": {
            "needs_background": "light"
          }
        },
        {
          "output_type": "display_data",
          "data": {
            "text/plain": [
              "<Figure size 432x288 with 1 Axes>"
            ],
            "image/png": "[encoded data removed]"
          },
          "metadata": {
            "needs_background": "light"
          }
        },
        {
          "output_type": "display_data",
          "data": {
            "text/plain": [
              "<Figure size 432x288 with 1 Axes>"
            ],
            "image/png": "[encoded data removed]"
          },
          "metadata": {
            "needs_background": "light"
          }
        }
      ],
      "source": [
        "for x in box:\n",
        "    boxplt(df[f'{x}'])"
      ]
    },
    {
      "cell_type": "markdown",
      "id": "e1f36916",
      "metadata": {
        "id": "e1f36916"
      },
      "source": [
        "### Using Interquartile Range"
      ]
    },
    {
      "cell_type": "markdown",
      "id": "049148eb",
      "metadata": {
        "id": "049148eb"
      },
      "source": [
        "Using H-Spread Which represents the interquartile range (Q3 - Q1)"
      ]
    },
    {
      "cell_type": "code",
      "execution_count": null,
      "id": "f755a2ad",
      "metadata": {
        "id": "f755a2ad"
      },
      "outputs": [],
      "source": [
        "Q1 = df.quantile(0.25)\n",
        "Q3 = df.quantile(0.75)"
      ]
    },
    {
      "cell_type": "code",
      "execution_count": null,
      "id": "fe42fa67",
      "metadata": {
        "id": "fe42fa67"
      },
      "outputs": [],
      "source": [
        "IQR = Q3 - Q1"
      ]
    },
    {
      "cell_type": "code",
      "execution_count": null,
      "id": "e383eb7f",
      "metadata": {
        "colab": {
          "base_uri": "https://localhost:8080/"
        },
        "id": "e383eb7f",
        "outputId": "d04918d3-9a16-437e-eee2-36923f26c5cf"
      },
      "outputs": [
        {
          "output_type": "execute_result",
          "data": {
            "text/plain": [
              "class               0.00\n",
              "age                18.00\n",
              "sex                 0.00\n",
              "steroid             1.00\n",
              "antivirals          0.00\n",
              "fatigue             1.00\n",
              "malaise             1.00\n",
              "anorexia            0.00\n",
              "liver_big           0.00\n",
              "liver_firm          1.00\n",
              "spleen_palpable     0.00\n",
              "spiders             1.00\n",
              "ascites             0.00\n",
              "varices             0.00\n",
              "bilirubin           0.80\n",
              "alk_phosphate      68.50\n",
              "sgot               68.50\n",
              "albumin             1.15\n",
              "protime            65.00\n",
              "histology           1.00\n",
              "dtype: float64"
            ]
          },
          "metadata": {},
          "execution_count": 196
        }
      ],
      "source": [
        "IQR"
      ]
    },
    {
      "cell_type": "code",
      "execution_count": null,
      "id": "fc0b1c70",
      "metadata": {
        "id": "fc0b1c70"
      },
      "outputs": [],
      "source": [
        "dfnew = df[~((df < (Q1 - 1.5 * IQR)) | (df > (Q3 + 1.5 * IQR))).any(axis = 1)]"
      ]
    },
    {
      "cell_type": "code",
      "execution_count": null,
      "id": "e9a4f635",
      "metadata": {
        "colab": {
          "base_uri": "https://localhost:8080/"
        },
        "id": "e9a4f635",
        "outputId": "fb896296-be23-42cf-ffd3-55f37668c5e8"
      },
      "outputs": [
        {
          "output_type": "execute_result",
          "data": {
            "text/plain": [
              "(43, 20)"
            ]
          },
          "metadata": {},
          "execution_count": 198
        }
      ],
      "source": [
        "dfnew.shape"
      ]
    },
    {
      "cell_type": "code",
      "execution_count": null,
      "id": "20f0b7eb",
      "metadata": {
        "colab": {
          "base_uri": "https://localhost:8080/"
        },
        "id": "20f0b7eb",
        "outputId": "4a652967-8e70-4602-f92d-45767f55c76c"
      },
      "outputs": [
        {
          "output_type": "execute_result",
          "data": {
            "text/plain": [
              "(155, 20)"
            ]
          },
          "metadata": {},
          "execution_count": 199
        }
      ],
      "source": [
        "df.shape"
      ]
    },
    {
      "cell_type": "code",
      "execution_count": null,
      "id": "8b101710",
      "metadata": {
        "colab": {
          "base_uri": "https://localhost:8080/"
        },
        "id": "8b101710",
        "outputId": "20a9482f-01ba-47e9-d05c-791d816995a0"
      },
      "outputs": [
        {
          "output_type": "stream",
          "name": "stdout",
          "text": [
            "Outliers Spotted: 112\n"
          ]
        }
      ],
      "source": [
        "print('Outliers Spotted: ' + str(155 - 43))"
      ]
    },
    {
      "cell_type": "markdown",
      "id": "09e52427",
      "metadata": {
        "id": "09e52427"
      },
      "source": [
        "Now our data is clean"
      ]
    },
    {
      "cell_type": "markdown",
      "id": "def73c53",
      "metadata": {
        "id": "def73c53"
      },
      "source": [
        "## Feature Selection"
      ]
    },
    {
      "cell_type": "markdown",
      "id": "3422d502",
      "metadata": {
        "id": "3422d502"
      },
      "source": [
        "Using:\n",
        "* SelectedKbest\n",
        "* Recursive Feature Selection"
      ]
    },
    {
      "cell_type": "code",
      "execution_count": null,
      "id": "6d013284",
      "metadata": {
        "id": "6d013284"
      },
      "outputs": [],
      "source": [
        "from sklearn.feature_selection import SelectKBest, chi2"
      ]
    },
    {
      "cell_type": "code",
      "execution_count": null,
      "id": "929faa2a",
      "metadata": {
        "id": "929faa2a"
      },
      "outputs": [],
      "source": [
        "x = df[['age', 'sex', 'steroid', 'antivirals', 'fatigue', 'malaise',\n",
        "       'anorexia', 'liver_big', 'liver_firm', 'spleen_palpable', 'spiders',\n",
        "       'ascites', 'varices', 'bilirubin', 'alk_phosphate', 'sgot', 'albumin',\n",
        "       'protime', 'histology']]\n",
        "y = df['class'].values"
      ]
    },
    {
      "cell_type": "code",
      "execution_count": null,
      "id": "571c6244",
      "metadata": {
        "colab": {
          "base_uri": "https://localhost:8080/",
          "height": 488
        },
        "id": "571c6244",
        "outputId": "d445c47a-25b2-48a9-b63a-d9176ba3889e"
      },
      "outputs": [
        {
          "output_type": "execute_result",
          "data": {
            "text/plain": [
              "     age  sex  steroid  antivirals  fatigue  malaise  anorexia  liver_big  \\\n",
              "0     30    2        1           2        2        2         2          1   \n",
              "1     50    1        1           2        1        2         2          1   \n",
              "2     78    1        2           2        1        2         2          2   \n",
              "3     31    1        0           1        2        2         2          2   \n",
              "4     34    1        2           2        2        2         2          2   \n",
              "..   ...  ...      ...         ...      ...      ...       ...        ...   \n",
              "150   46    1        2           2        1        1         1          2   \n",
              "151   44    1        2           2        1        2         2          2   \n",
              "152   61    1        1           2        1        1         2          1   \n",
              "153   53    2        1           2        1        2         2          2   \n",
              "154   43    1        2           2        1        2         2          2   \n",
              "\n",
              "     liver_firm  spleen_palpable  spiders  ascites  varices  bilirubin  \\\n",
              "0             2                2        2        2        2        1.0   \n",
              "1             2                2        2        2        2        0.9   \n",
              "2             2                2        2        2        2        0.7   \n",
              "3             2                2        2        2        2        0.7   \n",
              "4             2                2        2        2        2        1.0   \n",
              "..          ...              ...      ...      ...      ...        ...   \n",
              "150           2                2        1        1        1        7.6   \n",
              "151           1                2        2        2        2        0.9   \n",
              "152           1                2        1        2        2        0.8   \n",
              "153           2                1        1        2        1        1.5   \n",
              "154           2                1        1        1        2        1.2   \n",
              "\n",
              "     alk_phosphate  sgot  albumin  protime  histology  \n",
              "0               85    18      4.0        0          1  \n",
              "1              135    42      3.5        0          1  \n",
              "2               96    32      4.0        0          1  \n",
              "3               46    52      4.0       80          1  \n",
              "4                0   200      4.0        0          1  \n",
              "..             ...   ...      ...      ...        ...  \n",
              "150              0   242      3.3       50          2  \n",
              "151            126   142      4.3        0          2  \n",
              "152             75    20      4.1        0          2  \n",
              "153             81    19      4.1       48          2  \n",
              "154            100    19      3.1       42          2  \n",
              "\n",
              "[155 rows x 19 columns]"
            ],
            "text/html": [
              "\n",
              "  <div id=\"df-1519b5d7-de0e-4d25-902c-4e2aa5d25247\">\n",
              "    <div class=\"colab-df-container\">\n",
              "      <div>\n",
              "<style scoped>\n",
              "    .dataframe tbody tr th:only-of-type {\n",
              "        vertical-align: middle;\n",
              "    }\n",
              "\n",
              "    .dataframe tbody tr th {\n",
              "        vertical-align: top;\n",
              "    }\n",
              "\n",
              "    .dataframe thead th {\n",
              "        text-align: right;\n",
              "    }\n",
              "</style>\n",
              "<table border=\"1\" class=\"dataframe\">\n",
              "  <thead>\n",
              "    <tr style=\"text-align: right;\">\n",
              "      <th></th>\n",
              "      <th>age</th>\n",
              "      <th>sex</th>\n",
              "      <th>steroid</th>\n",
              "      <th>antivirals</th>\n",
              "      <th>fatigue</th>\n",
              "      <th>malaise</th>\n",
              "      <th>anorexia</th>\n",
              "      <th>liver_big</th>\n",
              "      <th>liver_firm</th>\n",
              "      <th>spleen_palpable</th>\n",
              "      <th>spiders</th>\n",
              "      <th>ascites</th>\n",
              "      <th>varices</th>\n",
              "      <th>bilirubin</th>\n",
              "      <th>alk_phosphate</th>\n",
              "      <th>sgot</th>\n",
              "      <th>albumin</th>\n",
              "      <th>protime</th>\n",
              "      <th>histology</th>\n",
              "    </tr>\n",
              "  </thead>\n",
              "  <tbody>\n",
              "    <tr>\n",
              "      <th>0</th>\n",
              "      <td>30</td>\n",
              "      <td>2</td>\n",
              "      <td>1</td>\n",
              "      <td>2</td>\n",
              "      <td>2</td>\n",
              "      <td>2</td>\n",
              "      <td>2</td>\n",
              "      <td>1</td>\n",
              "      <td>2</td>\n",
              "      <td>2</td>\n",
              "      <td>2</td>\n",
              "      <td>2</td>\n",
              "      <td>2</td>\n",
              "      <td>1.0</td>\n",
              "      <td>85</td>\n",
              "      <td>18</td>\n",
              "      <td>4.0</td>\n",
              "      <td>0</td>\n",
              "      <td>1</td>\n",
              "    </tr>\n",
              "    <tr>\n",
              "      <th>1</th>\n",
              "      <td>50</td>\n",
              "      <td>1</td>\n",
              "      <td>1</td>\n",
              "      <td>2</td>\n",
              "      <td>1</td>\n",
              "      <td>2</td>\n",
              "      <td>2</td>\n",
              "      <td>1</td>\n",
              "      <td>2</td>\n",
              "      <td>2</td>\n",
              "      <td>2</td>\n",
              "      <td>2</td>\n",
              "      <td>2</td>\n",
              "      <td>0.9</td>\n",
              "      <td>135</td>\n",
              "      <td>42</td>\n",
              "      <td>3.5</td>\n",
              "      <td>0</td>\n",
              "      <td>1</td>\n",
              "    </tr>\n",
              "    <tr>\n",
              "      <th>2</th>\n",
              "      <td>78</td>\n",
              "      <td>1</td>\n",
              "      <td>2</td>\n",
              "      <td>2</td>\n",
              "      <td>1</td>\n",
              "      <td>2</td>\n",
              "      <td>2</td>\n",
              "      <td>2</td>\n",
              "      <td>2</td>\n",
              "      <td>2</td>\n",
              "      <td>2</td>\n",
              "      <td>2</td>\n",
              "      <td>2</td>\n",
              "      <td>0.7</td>\n",
              "      <td>96</td>\n",
              "      <td>32</td>\n",
              "      <td>4.0</td>\n",
              "      <td>0</td>\n",
              "      <td>1</td>\n",
              "    </tr>\n",
              "    <tr>\n",
              "      <th>3</th>\n",
              "      <td>31</td>\n",
              "      <td>1</td>\n",
              "      <td>0</td>\n",
              "      <td>1</td>\n",
              "      <td>2</td>\n",
              "      <td>2</td>\n",
              "      <td>2</td>\n",
              "      <td>2</td>\n",
              "      <td>2</td>\n",
              "      <td>2</td>\n",
              "      <td>2</td>\n",
              "      <td>2</td>\n",
              "      <td>2</td>\n",
              "      <td>0.7</td>\n",
              "      <td>46</td>\n",
              "      <td>52</td>\n",
              "      <td>4.0</td>\n",
              "      <td>80</td>\n",
              "      <td>1</td>\n",
              "    </tr>\n",
              "    <tr>\n",
              "      <th>4</th>\n",
              "      <td>34</td>\n",
              "      <td>1</td>\n",
              "      <td>2</td>\n",
              "      <td>2</td>\n",
              "      <td>2</td>\n",
              "      <td>2</td>\n",
              "      <td>2</td>\n",
              "      <td>2</td>\n",
              "      <td>2</td>\n",
              "      <td>2</td>\n",
              "      <td>2</td>\n",
              "      <td>2</td>\n",
              "      <td>2</td>\n",
              "      <td>1.0</td>\n",
              "      <td>0</td>\n",
              "      <td>200</td>\n",
              "      <td>4.0</td>\n",
              "      <td>0</td>\n",
              "      <td>1</td>\n",
              "    </tr>\n",
              "    <tr>\n",
              "      <th>...</th>\n",
              "      <td>...</td>\n",
              "      <td>...</td>\n",
              "      <td>...</td>\n",
              "      <td>...</td>\n",
              "      <td>...</td>\n",
              "      <td>...</td>\n",
              "      <td>...</td>\n",
              "      <td>...</td>\n",
              "      <td>...</td>\n",
              "      <td>...</td>\n",
              "      <td>...</td>\n",
              "      <td>...</td>\n",
              "      <td>...</td>\n",
              "      <td>...</td>\n",
              "      <td>...</td>\n",
              "      <td>...</td>\n",
              "      <td>...</td>\n",
              "      <td>...</td>\n",
              "      <td>...</td>\n",
              "    </tr>\n",
              "    <tr>\n",
              "      <th>150</th>\n",
              "      <td>46</td>\n",
              "      <td>1</td>\n",
              "      <td>2</td>\n",
              "      <td>2</td>\n",
              "      <td>1</td>\n",
              "      <td>1</td>\n",
              "      <td>1</td>\n",
              "      <td>2</td>\n",
              "      <td>2</td>\n",
              "      <td>2</td>\n",
              "      <td>1</td>\n",
              "      <td>1</td>\n",
              "      <td>1</td>\n",
              "      <td>7.6</td>\n",
              "      <td>0</td>\n",
              "      <td>242</td>\n",
              "      <td>3.3</td>\n",
              "      <td>50</td>\n",
              "      <td>2</td>\n",
              "    </tr>\n",
              "    <tr>\n",
              "      <th>151</th>\n",
              "      <td>44</td>\n",
              "      <td>1</td>\n",
              "      <td>2</td>\n",
              "      <td>2</td>\n",
              "      <td>1</td>\n",
              "      <td>2</td>\n",
              "      <td>2</td>\n",
              "      <td>2</td>\n",
              "      <td>1</td>\n",
              "      <td>2</td>\n",
              "      <td>2</td>\n",
              "      <td>2</td>\n",
              "      <td>2</td>\n",
              "      <td>0.9</td>\n",
              "      <td>126</td>\n",
              "      <td>142</td>\n",
              "      <td>4.3</td>\n",
              "      <td>0</td>\n",
              "      <td>2</td>\n",
              "    </tr>\n",
              "    <tr>\n",
              "      <th>152</th>\n",
              "      <td>61</td>\n",
              "      <td>1</td>\n",
              "      <td>1</td>\n",
              "      <td>2</td>\n",
              "      <td>1</td>\n",
              "      <td>1</td>\n",
              "      <td>2</td>\n",
              "      <td>1</td>\n",
              "      <td>1</td>\n",
              "      <td>2</td>\n",
              "      <td>1</td>\n",
              "      <td>2</td>\n",
              "      <td>2</td>\n",
              "      <td>0.8</td>\n",
              "      <td>75</td>\n",
              "      <td>20</td>\n",
              "      <td>4.1</td>\n",
              "      <td>0</td>\n",
              "      <td>2</td>\n",
              "    </tr>\n",
              "    <tr>\n",
              "      <th>153</th>\n",
              "      <td>53</td>\n",
              "      <td>2</td>\n",
              "      <td>1</td>\n",
              "      <td>2</td>\n",
              "      <td>1</td>\n",
              "      <td>2</td>\n",
              "      <td>2</td>\n",
              "      <td>2</td>\n",
              "      <td>2</td>\n",
              "      <td>1</td>\n",
              "      <td>1</td>\n",
              "      <td>2</td>\n",
              "      <td>1</td>\n",
              "      <td>1.5</td>\n",
              "      <td>81</td>\n",
              "      <td>19</td>\n",
              "      <td>4.1</td>\n",
              "      <td>48</td>\n",
              "      <td>2</td>\n",
              "    </tr>\n",
              "    <tr>\n",
              "      <th>154</th>\n",
              "      <td>43</td>\n",
              "      <td>1</td>\n",
              "      <td>2</td>\n",
              "      <td>2</td>\n",
              "      <td>1</td>\n",
              "      <td>2</td>\n",
              "      <td>2</td>\n",
              "      <td>2</td>\n",
              "      <td>2</td>\n",
              "      <td>1</td>\n",
              "      <td>1</td>\n",
              "      <td>1</td>\n",
              "      <td>2</td>\n",
              "      <td>1.2</td>\n",
              "      <td>100</td>\n",
              "      <td>19</td>\n",
              "      <td>3.1</td>\n",
              "      <td>42</td>\n",
              "      <td>2</td>\n",
              "    </tr>\n",
              "  </tbody>\n",
              "</table>\n",
              "<p>155 rows × 19 columns</p>\n",
              "</div>\n",
              "      <button class=\"colab-df-convert\" onclick=\"convertToInteractive('df-1519b5d7-de0e-4d25-902c-4e2aa5d25247')\"\n",
              "              title=\"Convert this dataframe to an interactive table.\"\n",
              "              style=\"display:none;\">\n",
              "        \n",
              "  <svg xmlns=\"http://www.w3.org/2000/svg\" height=\"24px\"viewBox=\"0 0 24 24\"\n",
              "       width=\"24px\">\n",
              "    <path d=\"M0 0h24v24H0V0z\" fill=\"none\"/>\n",
              "    <path d=\"M18.56 5.44l.94 2.06.94-2.06 2.06-.94-2.06-.94-.94-2.06-.94 2.06-2.06.94zm-11 1L8.5 8.5l.94-2.06 2.06-.94-2.06-.94L8.5 2.5l-.94 2.06-2.06.94zm10 10l.94 2.06.94-2.06 2.06-.94-2.06-.94-.94-2.06-.94 2.06-2.06.94z\"/><path d=\"M17.41 7.96l-1.37-1.37c-.4-.4-.92-.59-1.43-.59-.52 0-1.04.2-1.43.59L10.3 9.45l-7.72 7.72c-.78.78-.78 2.05 0 2.83L4 21.41c.39.39.9.59 1.41.59.51 0 1.02-.2 1.41-.59l7.78-7.78 2.81-2.81c.8-.78.8-2.07 0-2.86zM5.41 20L4 18.59l7.72-7.72 1.47 1.35L5.41 20z\"/>\n",
              "  </svg>\n",
              "      </button>\n",
              "      \n",
              "  <style>\n",
              "    .colab-df-container {\n",
              "      display:flex;\n",
              "      flex-wrap:wrap;\n",
              "      gap: 12px;\n",
              "    }\n",
              "\n",
              "    .colab-df-convert {\n",
              "      background-color: #E8F0FE;\n",
              "      border: none;\n",
              "      border-radius: 50%;\n",
              "      cursor: pointer;\n",
              "      display: none;\n",
              "      fill: #1967D2;\n",
              "      height: 32px;\n",
              "      padding: 0 0 0 0;\n",
              "      width: 32px;\n",
              "    }\n",
              "\n",
              "    .colab-df-convert:hover {\n",
              "      background-color: #E2EBFA;\n",
              "      box-shadow: 0px 1px 2px rgba(60, 64, 67, 0.3), 0px 1px 3px 1px rgba(60, 64, 67, 0.15);\n",
              "      fill: #174EA6;\n",
              "    }\n",
              "\n",
              "    [theme=dark] .colab-df-convert {\n",
              "      background-color: #3B4455;\n",
              "      fill: #D2E3FC;\n",
              "    }\n",
              "\n",
              "    [theme=dark] .colab-df-convert:hover {\n",
              "      background-color: #434B5C;\n",
              "      box-shadow: 0px 1px 3px 1px rgba(0, 0, 0, 0.15);\n",
              "      filter: drop-shadow(0px 1px 2px rgba(0, 0, 0, 0.3));\n",
              "      fill: #FFFFFF;\n",
              "    }\n",
              "  </style>\n",
              "\n",
              "      <script>\n",
              "        const buttonEl =\n",
              "          document.querySelector('#df-1519b5d7-de0e-4d25-902c-4e2aa5d25247 button.colab-df-convert');\n",
              "        buttonEl.style.display =\n",
              "          google.colab.kernel.accessAllowed ? 'block' : 'none';\n",
              "\n",
              "        async function convertToInteractive(key) {\n",
              "          const element = document.querySelector('#df-1519b5d7-de0e-4d25-902c-4e2aa5d25247');\n",
              "          const dataTable =\n",
              "            await google.colab.kernel.invokeFunction('convertToInteractive',\n",
              "                                                     [key], {});\n",
              "          if (!dataTable) return;\n",
              "\n",
              "          const docLinkHtml = 'Like what you see? Visit the ' +\n",
              "            '<a target=\"_blank\" href=https://colab.research.google.com/notebooks/data_table.ipynb>data table notebook</a>'\n",
              "            + ' to learn more about interactive tables.';\n",
              "          element.innerHTML = '';\n",
              "          dataTable['output_type'] = 'display_data';\n",
              "          await google.colab.output.renderOutput(dataTable, element);\n",
              "          const docLink = document.createElement('div');\n",
              "          docLink.innerHTML = docLinkHtml;\n",
              "          element.appendChild(docLink);\n",
              "        }\n",
              "      </script>\n",
              "    </div>\n",
              "  </div>\n",
              "  "
            ]
          },
          "metadata": {},
          "execution_count": 203
        }
      ],
      "source": [
        "x"
      ]
    },
    {
      "cell_type": "code",
      "source": [
        "y"
      ],
      "metadata": {
        "colab": {
          "base_uri": "https://localhost:8080/"
        },
        "id": "M2hNeaLDKsp3",
        "outputId": "292c23d4-eac5-4eab-9b70-548805435a5d"
      },
      "id": "M2hNeaLDKsp3",
      "execution_count": null,
      "outputs": [
        {
          "output_type": "execute_result",
          "data": {
            "text/plain": [
              "array([2, 2, 2, 2, 2, 2, 1, 2, 2, 2, 2, 2, 2, 2, 2, 2, 2, 2, 2, 2, 2, 2,\n",
              "       2, 2, 2, 2, 2, 2, 2, 2, 1, 1, 2, 2, 2, 1, 2, 2, 2, 2, 2, 2, 2, 2,\n",
              "       2, 2, 2, 2, 2, 2, 2, 2, 2, 2, 2, 2, 2, 2, 2, 2, 2, 2, 2, 2, 2, 2,\n",
              "       2, 1, 2, 2, 2, 1, 2, 2, 2, 2, 1, 2, 2, 2, 2, 2, 2, 2, 2, 2, 1, 1,\n",
              "       1, 2, 2, 1, 2, 2, 1, 2, 2, 2, 1, 2, 1, 2, 2, 2, 1, 2, 1, 2, 2, 1,\n",
              "       2, 1, 2, 2, 2, 2, 2, 2, 1, 2, 1, 2, 2, 2, 2, 2, 2, 1, 2, 1, 2, 1,\n",
              "       2, 2, 1, 2, 2, 2, 1, 2, 2, 1, 2, 1, 1, 2, 1, 1, 2, 2, 1, 2, 2, 2,\n",
              "       1])"
            ]
          },
          "metadata": {},
          "execution_count": 204
        }
      ]
    },
    {
      "cell_type": "code",
      "execution_count": null,
      "id": "f5ba41d0",
      "metadata": {
        "id": "f5ba41d0"
      },
      "outputs": [],
      "source": [
        "best_feat = SelectKBest(score_func = chi2, k = 10)\n",
        "best_features = pd.DataFrame(best_feat.fit(x, y).scores_, columns = ['Scores'])"
      ]
    },
    {
      "cell_type": "code",
      "execution_count": null,
      "id": "dda4246b",
      "metadata": {
        "id": "dda4246b"
      },
      "outputs": [],
      "source": [
        "best_features = pd.concat([pd.DataFrame(x.columns, columns = ['Features']),best_features], axis = 1)"
      ]
    },
    {
      "cell_type": "code",
      "execution_count": null,
      "id": "59f877cf",
      "metadata": {
        "colab": {
          "base_uri": "https://localhost:8080/",
          "height": 645
        },
        "id": "59f877cf",
        "outputId": "30e867f6-f8b5-4e56-d889-5389a0e96830"
      },
      "outputs": [
        {
          "output_type": "execute_result",
          "data": {
            "text/plain": [
              "           Features      Scores\n",
              "0               age   28.474819\n",
              "1               sex    0.389483\n",
              "2           steroid    0.399513\n",
              "3        antivirals    0.186342\n",
              "4           fatigue    2.346432\n",
              "5           malaise    2.468032\n",
              "6          anorexia    0.196481\n",
              "7         liver_big    0.316982\n",
              "8        liver_firm    0.986710\n",
              "9   spleen_palpable    0.745352\n",
              "10          spiders    3.189408\n",
              "11          ascites    2.096400\n",
              "12          varices    1.128122\n",
              "13        bilirubin   30.102472\n",
              "14    alk_phosphate   17.882705\n",
              "15             sgot   47.388208\n",
              "16          albumin    6.873186\n",
              "17          protime  130.183325\n",
              "18        histology    3.018547"
            ],
            "text/html": [
              "\n",
              "  <div id=\"df-248b4058-566a-4e4b-bc03-1b023555ba9d\">\n",
              "    <div class=\"colab-df-container\">\n",
              "      <div>\n",
              "<style scoped>\n",
              "    .dataframe tbody tr th:only-of-type {\n",
              "        vertical-align: middle;\n",
              "    }\n",
              "\n",
              "    .dataframe tbody tr th {\n",
              "        vertical-align: top;\n",
              "    }\n",
              "\n",
              "    .dataframe thead th {\n",
              "        text-align: right;\n",
              "    }\n",
              "</style>\n",
              "<table border=\"1\" class=\"dataframe\">\n",
              "  <thead>\n",
              "    <tr style=\"text-align: right;\">\n",
              "      <th></th>\n",
              "      <th>Features</th>\n",
              "      <th>Scores</th>\n",
              "    </tr>\n",
              "  </thead>\n",
              "  <tbody>\n",
              "    <tr>\n",
              "      <th>0</th>\n",
              "      <td>age</td>\n",
              "      <td>28.474819</td>\n",
              "    </tr>\n",
              "    <tr>\n",
              "      <th>1</th>\n",
              "      <td>sex</td>\n",
              "      <td>0.389483</td>\n",
              "    </tr>\n",
              "    <tr>\n",
              "      <th>2</th>\n",
              "      <td>steroid</td>\n",
              "      <td>0.399513</td>\n",
              "    </tr>\n",
              "    <tr>\n",
              "      <th>3</th>\n",
              "      <td>antivirals</td>\n",
              "      <td>0.186342</td>\n",
              "    </tr>\n",
              "    <tr>\n",
              "      <th>4</th>\n",
              "      <td>fatigue</td>\n",
              "      <td>2.346432</td>\n",
              "    </tr>\n",
              "    <tr>\n",
              "      <th>5</th>\n",
              "      <td>malaise</td>\n",
              "      <td>2.468032</td>\n",
              "    </tr>\n",
              "    <tr>\n",
              "      <th>6</th>\n",
              "      <td>anorexia</td>\n",
              "      <td>0.196481</td>\n",
              "    </tr>\n",
              "    <tr>\n",
              "      <th>7</th>\n",
              "      <td>liver_big</td>\n",
              "      <td>0.316982</td>\n",
              "    </tr>\n",
              "    <tr>\n",
              "      <th>8</th>\n",
              "      <td>liver_firm</td>\n",
              "      <td>0.986710</td>\n",
              "    </tr>\n",
              "    <tr>\n",
              "      <th>9</th>\n",
              "      <td>spleen_palpable</td>\n",
              "      <td>0.745352</td>\n",
              "    </tr>\n",
              "    <tr>\n",
              "      <th>10</th>\n",
              "      <td>spiders</td>\n",
              "      <td>3.189408</td>\n",
              "    </tr>\n",
              "    <tr>\n",
              "      <th>11</th>\n",
              "      <td>ascites</td>\n",
              "      <td>2.096400</td>\n",
              "    </tr>\n",
              "    <tr>\n",
              "      <th>12</th>\n",
              "      <td>varices</td>\n",
              "      <td>1.128122</td>\n",
              "    </tr>\n",
              "    <tr>\n",
              "      <th>13</th>\n",
              "      <td>bilirubin</td>\n",
              "      <td>30.102472</td>\n",
              "    </tr>\n",
              "    <tr>\n",
              "      <th>14</th>\n",
              "      <td>alk_phosphate</td>\n",
              "      <td>17.882705</td>\n",
              "    </tr>\n",
              "    <tr>\n",
              "      <th>15</th>\n",
              "      <td>sgot</td>\n",
              "      <td>47.388208</td>\n",
              "    </tr>\n",
              "    <tr>\n",
              "      <th>16</th>\n",
              "      <td>albumin</td>\n",
              "      <td>6.873186</td>\n",
              "    </tr>\n",
              "    <tr>\n",
              "      <th>17</th>\n",
              "      <td>protime</td>\n",
              "      <td>130.183325</td>\n",
              "    </tr>\n",
              "    <tr>\n",
              "      <th>18</th>\n",
              "      <td>histology</td>\n",
              "      <td>3.018547</td>\n",
              "    </tr>\n",
              "  </tbody>\n",
              "</table>\n",
              "</div>\n",
              "      <button class=\"colab-df-convert\" onclick=\"convertToInteractive('df-248b4058-566a-4e4b-bc03-1b023555ba9d')\"\n",
              "              title=\"Convert this dataframe to an interactive table.\"\n",
              "              style=\"display:none;\">\n",
              "        \n",
              "  <svg xmlns=\"http://www.w3.org/2000/svg\" height=\"24px\"viewBox=\"0 0 24 24\"\n",
              "       width=\"24px\">\n",
              "    <path d=\"M0 0h24v24H0V0z\" fill=\"none\"/>\n",
              "    <path d=\"M18.56 5.44l.94 2.06.94-2.06 2.06-.94-2.06-.94-.94-2.06-.94 2.06-2.06.94zm-11 1L8.5 8.5l.94-2.06 2.06-.94-2.06-.94L8.5 2.5l-.94 2.06-2.06.94zm10 10l.94 2.06.94-2.06 2.06-.94-2.06-.94-.94-2.06-.94 2.06-2.06.94z\"/><path d=\"M17.41 7.96l-1.37-1.37c-.4-.4-.92-.59-1.43-.59-.52 0-1.04.2-1.43.59L10.3 9.45l-7.72 7.72c-.78.78-.78 2.05 0 2.83L4 21.41c.39.39.9.59 1.41.59.51 0 1.02-.2 1.41-.59l7.78-7.78 2.81-2.81c.8-.78.8-2.07 0-2.86zM5.41 20L4 18.59l7.72-7.72 1.47 1.35L5.41 20z\"/>\n",
              "  </svg>\n",
              "      </button>\n",
              "      \n",
              "  <style>\n",
              "    .colab-df-container {\n",
              "      display:flex;\n",
              "      flex-wrap:wrap;\n",
              "      gap: 12px;\n",
              "    }\n",
              "\n",
              "    .colab-df-convert {\n",
              "      background-color: #E8F0FE;\n",
              "      border: none;\n",
              "      border-radius: 50%;\n",
              "      cursor: pointer;\n",
              "      display: none;\n",
              "      fill: #1967D2;\n",
              "      height: 32px;\n",
              "      padding: 0 0 0 0;\n",
              "      width: 32px;\n",
              "    }\n",
              "\n",
              "    .colab-df-convert:hover {\n",
              "      background-color: #E2EBFA;\n",
              "      box-shadow: 0px 1px 2px rgba(60, 64, 67, 0.3), 0px 1px 3px 1px rgba(60, 64, 67, 0.15);\n",
              "      fill: #174EA6;\n",
              "    }\n",
              "\n",
              "    [theme=dark] .colab-df-convert {\n",
              "      background-color: #3B4455;\n",
              "      fill: #D2E3FC;\n",
              "    }\n",
              "\n",
              "    [theme=dark] .colab-df-convert:hover {\n",
              "      background-color: #434B5C;\n",
              "      box-shadow: 0px 1px 3px 1px rgba(0, 0, 0, 0.15);\n",
              "      filter: drop-shadow(0px 1px 2px rgba(0, 0, 0, 0.3));\n",
              "      fill: #FFFFFF;\n",
              "    }\n",
              "  </style>\n",
              "\n",
              "      <script>\n",
              "        const buttonEl =\n",
              "          document.querySelector('#df-248b4058-566a-4e4b-bc03-1b023555ba9d button.colab-df-convert');\n",
              "        buttonEl.style.display =\n",
              "          google.colab.kernel.accessAllowed ? 'block' : 'none';\n",
              "\n",
              "        async function convertToInteractive(key) {\n",
              "          const element = document.querySelector('#df-248b4058-566a-4e4b-bc03-1b023555ba9d');\n",
              "          const dataTable =\n",
              "            await google.colab.kernel.invokeFunction('convertToInteractive',\n",
              "                                                     [key], {});\n",
              "          if (!dataTable) return;\n",
              "\n",
              "          const docLinkHtml = 'Like what you see? Visit the ' +\n",
              "            '<a target=\"_blank\" href=https://colab.research.google.com/notebooks/data_table.ipynb>data table notebook</a>'\n",
              "            + ' to learn more about interactive tables.';\n",
              "          element.innerHTML = '';\n",
              "          dataTable['output_type'] = 'display_data';\n",
              "          await google.colab.output.renderOutput(dataTable, element);\n",
              "          const docLink = document.createElement('div');\n",
              "          docLink.innerHTML = docLinkHtml;\n",
              "          element.appendChild(docLink);\n",
              "        }\n",
              "      </script>\n",
              "    </div>\n",
              "  </div>\n",
              "  "
            ]
          },
          "metadata": {},
          "execution_count": 207
        }
      ],
      "source": [
        "best_features"
      ]
    },
    {
      "cell_type": "code",
      "execution_count": null,
      "id": "dc67a990",
      "metadata": {
        "id": "dc67a990"
      },
      "outputs": [],
      "source": [
        "best_features = best_features.nlargest(11,'Scores')['Features'].unique()"
      ]
    },
    {
      "cell_type": "code",
      "execution_count": null,
      "id": "1a3774ab",
      "metadata": {
        "colab": {
          "base_uri": "https://localhost:8080/"
        },
        "id": "1a3774ab",
        "outputId": "a2a9991e-551f-4eb0-cf52-34ba6d530b01"
      },
      "outputs": [
        {
          "output_type": "execute_result",
          "data": {
            "text/plain": [
              "array(['protime', 'sgot', 'bilirubin', 'age', 'alk_phosphate', 'albumin',\n",
              "       'spiders', 'histology', 'malaise', 'fatigue', 'ascites'],\n",
              "      dtype=object)"
            ]
          },
          "metadata": {},
          "execution_count": 209
        }
      ],
      "source": [
        "best_features"
      ]
    },
    {
      "cell_type": "markdown",
      "id": "a517824b",
      "metadata": {
        "id": "a517824b"
      },
      "source": [
        "According to chi2 function, these 11 features are having the maximum impact"
      ]
    },
    {
      "cell_type": "markdown",
      "source": [
        "# Using Heat Map"
      ],
      "metadata": {
        "id": "GtPClymhyJHL"
      },
      "id": "GtPClymhyJHL"
    },
    {
      "cell_type": "code",
      "execution_count": null,
      "id": "5e0577de",
      "metadata": {
        "colab": {
          "base_uri": "https://localhost:8080/",
          "height": 519
        },
        "id": "5e0577de",
        "outputId": "041de614-9b3f-4f1c-a44b-15e1e1fb4d97"
      },
      "outputs": [
        {
          "output_type": "display_data",
          "data": {
            "text/plain": [
              "<Figure size 1440x720 with 2 Axes>"
            ],
            "image/png": "[encoded data removed]"
          },
          "metadata": {
            "needs_background": "light"
          }
        }
      ],
      "source": [
        "plt.figure(figsize=(20,10))\n",
        "sns.heatmap(x.corr(),annot=True)\n",
        "plt.show()"
      ]
    },
    {
      "cell_type": "markdown",
      "id": "54a9b135",
      "metadata": {
        "id": "54a9b135"
      },
      "source": [
        "# Model Selection"
      ]
    },
    {
      "cell_type": "markdown",
      "id": "73bea093",
      "metadata": {
        "id": "73bea093"
      },
      "source": [
        "Following algorithms seem to be best suited for this problem:\n",
        "* K Nearest Neighbors\n",
        "* Decision Trees\n",
        "* RandomForest Classifier\n",
        "* Logistic Regression"
      ]
    },
    {
      "cell_type": "markdown",
      "id": "d6549cab",
      "metadata": {
        "id": "d6549cab"
      },
      "source": [
        "But before we move furhter we need to split our training and testing data and normalize them separately."
      ]
    },
    {
      "cell_type": "code",
      "execution_count": null,
      "id": "882f76e3",
      "metadata": {
        "id": "882f76e3"
      },
      "outputs": [],
      "source": [
        "np.random.seed(11)\n",
        "x_train, x_test, y_train, y_test = train_test_split(df[best_features], df['class'].values, test_size = 0.2)"
      ]
    },
    {
      "cell_type": "code",
      "execution_count": null,
      "id": "368892cc",
      "metadata": {
        "colab": {
          "base_uri": "https://localhost:8080/"
        },
        "id": "368892cc",
        "outputId": "ec13cfbc-fb05-43a1-94f3-1df1b2d899f6"
      },
      "outputs": [
        {
          "output_type": "execute_result",
          "data": {
            "text/plain": [
              "(124, 11)"
            ]
          },
          "metadata": {},
          "execution_count": 213
        }
      ],
      "source": [
        "x_train.shape"
      ]
    },
    {
      "cell_type": "code",
      "execution_count": null,
      "id": "f8358668",
      "metadata": {
        "colab": {
          "base_uri": "https://localhost:8080/"
        },
        "id": "f8358668",
        "outputId": "6a36bd80-9808-4bee-b6c5-7ba0fa5744c4"
      },
      "outputs": [
        {
          "output_type": "execute_result",
          "data": {
            "text/plain": [
              "(31, 11)"
            ]
          },
          "metadata": {},
          "execution_count": 214
        }
      ],
      "source": [
        "x_test.shape"
      ]
    },
    {
      "cell_type": "code",
      "execution_count": null,
      "id": "765f621f",
      "metadata": {
        "id": "765f621f"
      },
      "outputs": [],
      "source": [
        "from sklearn import preprocessing\n",
        "x_train = preprocessing.StandardScaler().fit(x_train).transform(x_train)\n",
        "x_test = preprocessing.StandardScaler().fit(x_test).transform(x_test)"
      ]
    },
    {
      "cell_type": "code",
      "execution_count": null,
      "id": "3593281e",
      "metadata": {
        "colab": {
          "base_uri": "https://localhost:8080/"
        },
        "id": "3593281e",
        "outputId": "28d6d560-1724-44be-909a-397556ebe26f"
      },
      "outputs": [
        {
          "output_type": "execute_result",
          "data": {
            "text/plain": [
              "array([[-1.03002362, -0.75915318, -0.2636589 , -0.91790654,  0.03809384,\n",
              "         0.40100318,  0.71679873, -0.89280538,  0.80829038,  1.37248713,\n",
              "         0.35993702],\n",
              "       [-1.03002362, -0.73613729, -0.2636589 , -0.14068067,  0.03809384,\n",
              "         0.40100318,  0.71679873, -0.89280538,  0.80829038,  1.37248713,\n",
              "         0.35993702],\n",
              "       [ 0.8137457 ,  0.09243479, -0.09556788,  1.15469578,  0.03809384,\n",
              "        -0.27094809,  0.71679873,  1.12006493, -1.23717915, -0.72860428,\n",
              "        -2.42957486],\n",
              "       [ 1.03723289, -0.52899427, -0.2636589 ,  2.01828007, -0.0481039 ,\n",
              "         0.62498693,  0.71679873, -0.89280538, -1.23717915, -0.72860428,\n",
              "         0.35993702],\n",
              "       [ 0.42264311, -0.29883536, -0.2636589 ,  0.89562049, -0.082583  ,\n",
              "         0.84897069,  0.71679873, -0.89280538, -1.23717915, -0.72860428,\n",
              "         0.35993702]])"
            ]
          },
          "metadata": {},
          "execution_count": 216
        }
      ],
      "source": [
        "x_train[:5]"
      ]
    },
    {
      "cell_type": "code",
      "execution_count": null,
      "id": "af58c448",
      "metadata": {
        "colab": {
          "base_uri": "https://localhost:8080/"
        },
        "id": "af58c448",
        "outputId": "4b1be5c4-e170-440e-e007-17a919625344"
      },
      "outputs": [
        {
          "output_type": "execute_result",
          "data": {
            "text/plain": [
              "array([[-0.89943446, -0.55606133,  1.23588861,  0.67664569, -0.16071767,\n",
              "         0.44829513,  0.77113566,  1.03279556,  0.80829038, -0.60633906,\n",
              "         0.6350529 ],\n",
              "       [ 0.89323859,  0.58633212, -0.0050036 , -0.35285205,  0.44523138,\n",
              "         0.19714183, -0.6350529 ,  1.03279556,  0.80829038,  1.27331203,\n",
              "         0.6350529 ],\n",
              "       [-0.89943446, -0.63766086, -0.47033818, -0.99628813, -1.3052881 ,\n",
              "         0.61573066, -0.6350529 ,  1.03279556, -0.98149546, -0.60633906,\n",
              "        -0.77113566],\n",
              "       [-0.89943446, -0.45406191, -0.6254497 , -1.06063174, -1.3052881 ,\n",
              "         0.78316619,  0.77113566, -0.96824584,  0.80829038,  1.27331203,\n",
              "         0.6350529 ],\n",
              "       [-0.89943446, -0.67846062, -0.31522665, -0.35285205,  0.28364497,\n",
              "        -0.38888252, -0.6350529 ,  1.03279556, -0.98149546, -0.60633906,\n",
              "        -0.77113566]])"
            ]
          },
          "metadata": {},
          "execution_count": 217
        }
      ],
      "source": [
        "x_test[:5]"
      ]
    },
    {
      "cell_type": "code",
      "execution_count": null,
      "id": "b90a937c",
      "metadata": {
        "colab": {
          "base_uri": "https://localhost:8080/"
        },
        "id": "b90a937c",
        "outputId": "446f8766-2922-4b1b-d2d7-5107b2c08707"
      },
      "outputs": [
        {
          "output_type": "execute_result",
          "data": {
            "text/plain": [
              "array([2, 2, 2, 2, 2])"
            ]
          },
          "metadata": {},
          "execution_count": 218
        }
      ],
      "source": [
        "y_train[:5]"
      ]
    },
    {
      "cell_type": "code",
      "execution_count": null,
      "id": "59606220",
      "metadata": {
        "colab": {
          "base_uri": "https://localhost:8080/"
        },
        "id": "59606220",
        "outputId": "302bdeea-d024-4ae6-9111-2e88b73777b9"
      },
      "outputs": [
        {
          "output_type": "execute_result",
          "data": {
            "text/plain": [
              "array([2, 2, 2, 2, 1])"
            ]
          },
          "metadata": {},
          "execution_count": 219
        }
      ],
      "source": [
        "y_test[:5]"
      ]
    },
    {
      "cell_type": "code",
      "execution_count": null,
      "id": "0c24984f",
      "metadata": {
        "id": "0c24984f"
      },
      "outputs": [],
      "source": [
        "from sklearn.neighbors import KNeighborsClassifier\n",
        "from sklearn.ensemble import RandomForestClassifier\n",
        "from sklearn.tree import DecisionTreeClassifier\n",
        "from sklearn.linear_model import LogisticRegression\n",
        "\n",
        "from sklearn.metrics import accuracy_score,jaccard_score"
      ]
    },
    {
      "cell_type": "code",
      "execution_count": null,
      "id": "374c651c",
      "metadata": {
        "id": "374c651c"
      },
      "outputs": [],
      "source": [
        "def training(model):\n",
        "    return model.fit(x_train, y_train)"
      ]
    },
    {
      "cell_type": "code",
      "execution_count": null,
      "id": "87265e3f",
      "metadata": {
        "id": "87265e3f"
      },
      "outputs": [],
      "source": [
        "def scores(y_val, y_preds):\n",
        "    acs = accuracy_score(y_test, y_preds)\n",
        "    js = jaccard_score(y_test, y_preds, average ='micro')\n",
        "    print(\"Accuracy Score: \",acs)\n",
        "    print(\"Jaccard Score: \",js)\n",
        "    return acs, js"
      ]
    },
    {
      "cell_type": "code",
      "source": [
        "acc_scr = list()\n",
        "js_scr = list()"
      ],
      "metadata": {
        "id": "fEmdSahXTzfg"
      },
      "id": "fEmdSahXTzfg",
      "execution_count": null,
      "outputs": []
    },
    {
      "cell_type": "markdown",
      "id": "3260b75d",
      "metadata": {
        "id": "3260b75d"
      },
      "source": [
        "## Using KNN"
      ]
    },
    {
      "cell_type": "code",
      "execution_count": null,
      "id": "4bf62932",
      "metadata": {
        "id": "4bf62932"
      },
      "outputs": [],
      "source": [
        "y_preds = training(KNeighborsClassifier(n_neighbors = 3)).predict(x_test)"
      ]
    },
    {
      "cell_type": "code",
      "execution_count": null,
      "id": "4edcc8d9",
      "metadata": {
        "colab": {
          "base_uri": "https://localhost:8080/"
        },
        "id": "4edcc8d9",
        "outputId": "4489dc26-0c05-40ea-ab22-c6b8c1b71688"
      },
      "outputs": [
        {
          "output_type": "execute_result",
          "data": {
            "text/plain": [
              "array([2, 2, 2, 2, 1])"
            ]
          },
          "metadata": {},
          "execution_count": 308
        }
      ],
      "source": [
        "y_preds[:5]"
      ]
    },
    {
      "cell_type": "code",
      "execution_count": null,
      "id": "6316643a",
      "metadata": {
        "colab": {
          "base_uri": "https://localhost:8080/"
        },
        "id": "6316643a",
        "outputId": "0e7a52f7-563d-4ecd-9152-d107c68f880d"
      },
      "outputs": [
        {
          "output_type": "execute_result",
          "data": {
            "text/plain": [
              "array([2, 2, 2, 2, 1])"
            ]
          },
          "metadata": {},
          "execution_count": 309
        }
      ],
      "source": [
        "y_test[:5]"
      ]
    },
    {
      "cell_type": "code",
      "execution_count": null,
      "id": "fe06ecb6",
      "metadata": {
        "colab": {
          "base_uri": "https://localhost:8080/"
        },
        "id": "fe06ecb6",
        "outputId": "208cd140-e98d-42e8-fc28-526a98506824"
      },
      "outputs": [
        {
          "output_type": "stream",
          "name": "stdout",
          "text": [
            "Accuracy Score:  0.8709677419354839\n",
            "Jaccard Score:  0.7714285714285715\n"
          ]
        }
      ],
      "source": [
        "knn_as, knn_js = scores(y_test, y_preds)\n",
        "acc_scr.append(knn_as), js_scr.append(knn_js);"
      ]
    },
    {
      "cell_type": "code",
      "execution_count": null,
      "id": "d5594f69",
      "metadata": {
        "colab": {
          "base_uri": "https://localhost:8080/"
        },
        "id": "d5594f69",
        "outputId": "6b5f12a7-63c8-486a-9198-22198ac7748c"
      },
      "outputs": [
        {
          "output_type": "stream",
          "name": "stdout",
          "text": [
            "Accuracy Score at x = 1\n",
            "Accuracy Score:  0.7419354838709677\n",
            "Jaccard Score:  0.5897435897435898\n",
            "\n",
            "Accuracy Score at x = 2\n",
            "Accuracy Score:  0.7741935483870968\n",
            "Jaccard Score:  0.631578947368421\n",
            "\n",
            "Accuracy Score at x = 3\n",
            "Accuracy Score:  0.8709677419354839\n",
            "Jaccard Score:  0.7714285714285715\n",
            "\n",
            "Accuracy Score at x = 4\n",
            "Accuracy Score:  0.8709677419354839\n",
            "Jaccard Score:  0.7714285714285715\n",
            "\n",
            "Accuracy Score at x = 5\n",
            "Accuracy Score:  0.8064516129032258\n",
            "Jaccard Score:  0.6756756756756757\n",
            "\n",
            "Accuracy Score at x = 6\n",
            "Accuracy Score:  0.7419354838709677\n",
            "Jaccard Score:  0.5897435897435898\n",
            "\n",
            "Accuracy Score at x = 7\n",
            "Accuracy Score:  0.8064516129032258\n",
            "Jaccard Score:  0.6756756756756757\n",
            "\n",
            "Accuracy Score at x = 8\n",
            "Accuracy Score:  0.7419354838709677\n",
            "Jaccard Score:  0.5897435897435898\n",
            "\n",
            "Accuracy Score at x = 9\n",
            "Accuracy Score:  0.6774193548387096\n",
            "Jaccard Score:  0.5121951219512195\n",
            "\n",
            "Accuracy Score at x = 10\n",
            "Accuracy Score:  0.6774193548387096\n",
            "Jaccard Score:  0.5121951219512195\n",
            "\n",
            "Accuracy Score at x = 11\n",
            "Accuracy Score:  0.7096774193548387\n",
            "Jaccard Score:  0.55\n",
            "\n",
            "Accuracy Score at x = 12\n",
            "Accuracy Score:  0.7096774193548387\n",
            "Jaccard Score:  0.55\n",
            "\n",
            "Accuracy Score at x = 13\n",
            "Accuracy Score:  0.6774193548387096\n",
            "Jaccard Score:  0.5121951219512195\n",
            "\n",
            "Accuracy Score at x = 14\n",
            "Accuracy Score:  0.6774193548387096\n",
            "Jaccard Score:  0.5121951219512195\n",
            "\n"
          ]
        }
      ],
      "source": [
        "for x in range(1,15):\n",
        "    y_preds = training(KNeighborsClassifier(n_neighbors = x)).predict(x_test)\n",
        "    print(\"Accuracy Score at x =\", x)\n",
        "    scores(y_test, y_preds)\n",
        "    print()"
      ]
    },
    {
      "cell_type": "markdown",
      "id": "5d6b2714",
      "metadata": {
        "id": "5d6b2714"
      },
      "source": [
        "# Using Random Forest Classifier"
      ]
    },
    {
      "cell_type": "code",
      "execution_count": null,
      "id": "e3abb727",
      "metadata": {
        "id": "e3abb727"
      },
      "outputs": [],
      "source": [
        "y_preds = training(RandomForestClassifier()).predict(x_test)"
      ]
    },
    {
      "cell_type": "code",
      "execution_count": null,
      "id": "b293de36",
      "metadata": {
        "colab": {
          "base_uri": "https://localhost:8080/"
        },
        "id": "b293de36",
        "outputId": "1c390569-3894-4993-f1fb-0f9ddd953e50"
      },
      "outputs": [
        {
          "output_type": "execute_result",
          "data": {
            "text/plain": [
              "array([2, 2, 2, 2, 2])"
            ]
          },
          "metadata": {},
          "execution_count": 313
        }
      ],
      "source": [
        "y_preds[:5]"
      ]
    },
    {
      "cell_type": "code",
      "execution_count": null,
      "id": "5f2cde65",
      "metadata": {
        "colab": {
          "base_uri": "https://localhost:8080/"
        },
        "id": "5f2cde65",
        "outputId": "282bba6f-a441-4024-b630-7b9975366718"
      },
      "outputs": [
        {
          "output_type": "execute_result",
          "data": {
            "text/plain": [
              "array([2, 2, 2, 2, 1])"
            ]
          },
          "metadata": {},
          "execution_count": 314
        }
      ],
      "source": [
        "y_test[:5]"
      ]
    },
    {
      "cell_type": "code",
      "execution_count": null,
      "id": "d9164729",
      "metadata": {
        "colab": {
          "base_uri": "https://localhost:8080/"
        },
        "id": "d9164729",
        "outputId": "c2687e29-0272-4b06-fb86-f7d0c4b42917"
      },
      "outputs": [
        {
          "output_type": "stream",
          "name": "stdout",
          "text": [
            "Accuracy Score:  0.6451612903225806\n",
            "Jaccard Score:  0.47619047619047616\n"
          ]
        }
      ],
      "source": [
        "rfc_as, rfc_js = scores(y_test, y_preds)\n",
        "acc_scr.append(rfc_as), js_scr.append(rfc_js);"
      ]
    },
    {
      "cell_type": "markdown",
      "id": "415bf410",
      "metadata": {
        "id": "415bf410"
      },
      "source": [
        "# Using Decision Trees"
      ]
    },
    {
      "cell_type": "code",
      "execution_count": null,
      "id": "be46ce93",
      "metadata": {
        "colab": {
          "base_uri": "https://localhost:8080/"
        },
        "id": "be46ce93",
        "outputId": "10b970f5-e799-4aec-f392-7c6d3f554434"
      },
      "outputs": [
        {
          "output_type": "stream",
          "name": "stdout",
          "text": [
            "Scores for depth = 1\n",
            "Accuracy Score:  0.6774193548387096\n",
            "Jaccard Score:  0.5121951219512195\n",
            "\n",
            "Scores for depth = 2\n",
            "Accuracy Score:  0.6451612903225806\n",
            "Jaccard Score:  0.47619047619047616\n",
            "\n",
            "Scores for depth = 3\n",
            "Accuracy Score:  0.6451612903225806\n",
            "Jaccard Score:  0.47619047619047616\n",
            "\n",
            "Scores for depth = 4\n",
            "Accuracy Score:  0.6451612903225806\n",
            "Jaccard Score:  0.47619047619047616\n",
            "\n",
            "Scores for depth = 5\n",
            "Accuracy Score:  0.6129032258064516\n",
            "Jaccard Score:  0.4418604651162791\n",
            "\n",
            "Scores for depth = 6\n",
            "Accuracy Score:  0.6451612903225806\n",
            "Jaccard Score:  0.47619047619047616\n",
            "\n",
            "Scores for depth = 7\n",
            "Accuracy Score:  0.5806451612903226\n",
            "Jaccard Score:  0.4090909090909091\n",
            "\n",
            "Scores for depth = 8\n",
            "Accuracy Score:  0.6451612903225806\n",
            "Jaccard Score:  0.47619047619047616\n",
            "\n",
            "Scores for depth = 9\n",
            "Accuracy Score:  0.6451612903225806\n",
            "Jaccard Score:  0.47619047619047616\n",
            "\n",
            "Scores for depth = 10\n",
            "Accuracy Score:  0.6451612903225806\n",
            "Jaccard Score:  0.47619047619047616\n",
            "\n"
          ]
        }
      ],
      "source": [
        "for x in range(1,11):\n",
        "    y_preds = training(DecisionTreeClassifier(max_depth = x)).predict(x_test)\n",
        "    print(\"Scores for depth =\", x)\n",
        "    scores(y_test, y_preds)\n",
        "    print()"
      ]
    },
    {
      "cell_type": "markdown",
      "id": "97d8390f",
      "metadata": {
        "id": "97d8390f"
      },
      "source": [
        "Decision tree performs best at max_depth equals 1, 7 ans 10"
      ]
    },
    {
      "cell_type": "code",
      "source": [
        "dt_as, dt_js = scores(y_test, training(DecisionTreeClassifier(max_depth = 1)).predict(x_test)) \n",
        "acc_scr.append(dt_as), js_scr.append(dt_js);"
      ],
      "metadata": {
        "colab": {
          "base_uri": "https://localhost:8080/"
        },
        "id": "U5vFOGzlR7aE",
        "outputId": "7d489996-dd9f-4a30-e118-ef7cf8e10da9"
      },
      "id": "U5vFOGzlR7aE",
      "execution_count": null,
      "outputs": [
        {
          "output_type": "stream",
          "name": "stdout",
          "text": [
            "Accuracy Score:  0.6774193548387096\n",
            "Jaccard Score:  0.5121951219512195\n"
          ]
        }
      ]
    },
    {
      "cell_type": "markdown",
      "source": [
        "# Using Logistic Regression"
      ],
      "metadata": {
        "id": "SaFtxsTIQOa8"
      },
      "id": "SaFtxsTIQOa8"
    },
    {
      "cell_type": "code",
      "source": [
        "y_preds = training(LogisticRegression()).predict(x_test)"
      ],
      "metadata": {
        "id": "KMjNwAfLQRxt"
      },
      "id": "KMjNwAfLQRxt",
      "execution_count": null,
      "outputs": []
    },
    {
      "cell_type": "code",
      "source": [
        "y_preds[:5]"
      ],
      "metadata": {
        "colab": {
          "base_uri": "https://localhost:8080/"
        },
        "id": "f771gYYpQeGo",
        "outputId": "2dec60f4-f7e7-4c3c-dbd2-a0aaf3ccc2ea"
      },
      "id": "f771gYYpQeGo",
      "execution_count": null,
      "outputs": [
        {
          "output_type": "execute_result",
          "data": {
            "text/plain": [
              "array([2, 2, 2, 2, 2])"
            ]
          },
          "metadata": {},
          "execution_count": 319
        }
      ]
    },
    {
      "cell_type": "code",
      "source": [
        "y_test[:5]"
      ],
      "metadata": {
        "colab": {
          "base_uri": "https://localhost:8080/"
        },
        "id": "RmeAJMwrQff7",
        "outputId": "3b885210-349d-4d8b-fd05-344e025ccfc0"
      },
      "id": "RmeAJMwrQff7",
      "execution_count": null,
      "outputs": [
        {
          "output_type": "execute_result",
          "data": {
            "text/plain": [
              "array([2, 2, 2, 2, 1])"
            ]
          },
          "metadata": {},
          "execution_count": 320
        }
      ]
    },
    {
      "cell_type": "code",
      "source": [
        "lr_as, lr_js = scores(y_test, y_preds)\n",
        "acc_scr.append(lr_as), js_scr.append(lr_js);"
      ],
      "metadata": {
        "colab": {
          "base_uri": "https://localhost:8080/"
        },
        "id": "GsYr_Vw0QhSS",
        "outputId": "b423060a-b423-48a3-e2bc-c160a938e0f9"
      },
      "id": "GsYr_Vw0QhSS",
      "execution_count": null,
      "outputs": [
        {
          "output_type": "stream",
          "name": "stdout",
          "text": [
            "Accuracy Score:  0.6774193548387096\n",
            "Jaccard Score:  0.5121951219512195\n"
          ]
        }
      ]
    },
    {
      "cell_type": "code",
      "source": [
        "report = {'Accuracy Score':acc_scr[:4], 'Jaccard Score':js_scr[:4]}"
      ],
      "metadata": {
        "id": "cpZySmhhQqad"
      },
      "id": "cpZySmhhQqad",
      "execution_count": null,
      "outputs": []
    },
    {
      "cell_type": "code",
      "source": [
        "pd.DataFrame(report, index = ['KNN','Random Forest','Decision Trees','Logistic Regression'])"
      ],
      "metadata": {
        "colab": {
          "base_uri": "https://localhost:8080/",
          "height": 175
        },
        "id": "sWkSEACEVO96",
        "outputId": "eb110688-247d-44f4-8a7a-a0191baf74d0"
      },
      "id": "sWkSEACEVO96",
      "execution_count": null,
      "outputs": [
        {
          "output_type": "execute_result",
          "data": {
            "text/plain": [
              "                     Accuracy Score  Jaccard Score\n",
              "KNN                        0.870968       0.771429\n",
              "Random Forest              0.645161       0.476190\n",
              "Decision Trees             0.677419       0.512195\n",
              "Logistic Regression        0.677419       0.512195"
            ],
            "text/html": [
              "\n",
              "  <div id=\"df-6f44aa07-6675-439e-b3ea-f441af5d2e6a\">\n",
              "    <div class=\"colab-df-container\">\n",
              "      <div>\n",
              "<style scoped>\n",
              "    .dataframe tbody tr th:only-of-type {\n",
              "        vertical-align: middle;\n",
              "    }\n",
              "\n",
              "    .dataframe tbody tr th {\n",
              "        vertical-align: top;\n",
              "    }\n",
              "\n",
              "    .dataframe thead th {\n",
              "        text-align: right;\n",
              "    }\n",
              "</style>\n",
              "<table border=\"1\" class=\"dataframe\">\n",
              "  <thead>\n",
              "    <tr style=\"text-align: right;\">\n",
              "      <th></th>\n",
              "      <th>Accuracy Score</th>\n",
              "      <th>Jaccard Score</th>\n",
              "    </tr>\n",
              "  </thead>\n",
              "  <tbody>\n",
              "    <tr>\n",
              "      <th>KNN</th>\n",
              "      <td>0.870968</td>\n",
              "      <td>0.771429</td>\n",
              "    </tr>\n",
              "    <tr>\n",
              "      <th>Random Forest</th>\n",
              "      <td>0.645161</td>\n",
              "      <td>0.476190</td>\n",
              "    </tr>\n",
              "    <tr>\n",
              "      <th>Decision Trees</th>\n",
              "      <td>0.677419</td>\n",
              "      <td>0.512195</td>\n",
              "    </tr>\n",
              "    <tr>\n",
              "      <th>Logistic Regression</th>\n",
              "      <td>0.677419</td>\n",
              "      <td>0.512195</td>\n",
              "    </tr>\n",
              "  </tbody>\n",
              "</table>\n",
              "</div>\n",
              "      <button class=\"colab-df-convert\" onclick=\"convertToInteractive('df-6f44aa07-6675-439e-b3ea-f441af5d2e6a')\"\n",
              "              title=\"Convert this dataframe to an interactive table.\"\n",
              "              style=\"display:none;\">\n",
              "        \n",
              "  <svg xmlns=\"http://www.w3.org/2000/svg\" height=\"24px\"viewBox=\"0 0 24 24\"\n",
              "       width=\"24px\">\n",
              "    <path d=\"M0 0h24v24H0V0z\" fill=\"none\"/>\n",
              "    <path d=\"M18.56 5.44l.94 2.06.94-2.06 2.06-.94-2.06-.94-.94-2.06-.94 2.06-2.06.94zm-11 1L8.5 8.5l.94-2.06 2.06-.94-2.06-.94L8.5 2.5l-.94 2.06-2.06.94zm10 10l.94 2.06.94-2.06 2.06-.94-2.06-.94-.94-2.06-.94 2.06-2.06.94z\"/><path d=\"M17.41 7.96l-1.37-1.37c-.4-.4-.92-.59-1.43-.59-.52 0-1.04.2-1.43.59L10.3 9.45l-7.72 7.72c-.78.78-.78 2.05 0 2.83L4 21.41c.39.39.9.59 1.41.59.51 0 1.02-.2 1.41-.59l7.78-7.78 2.81-2.81c.8-.78.8-2.07 0-2.86zM5.41 20L4 18.59l7.72-7.72 1.47 1.35L5.41 20z\"/>\n",
              "  </svg>\n",
              "      </button>\n",
              "      \n",
              "  <style>\n",
              "    .colab-df-container {\n",
              "      display:flex;\n",
              "      flex-wrap:wrap;\n",
              "      gap: 12px;\n",
              "    }\n",
              "\n",
              "    .colab-df-convert {\n",
              "      background-color: #E8F0FE;\n",
              "      border: none;\n",
              "      border-radius: 50%;\n",
              "      cursor: pointer;\n",
              "      display: none;\n",
              "      fill: #1967D2;\n",
              "      height: 32px;\n",
              "      padding: 0 0 0 0;\n",
              "      width: 32px;\n",
              "    }\n",
              "\n",
              "    .colab-df-convert:hover {\n",
              "      background-color: #E2EBFA;\n",
              "      box-shadow: 0px 1px 2px rgba(60, 64, 67, 0.3), 0px 1px 3px 1px rgba(60, 64, 67, 0.15);\n",
              "      fill: #174EA6;\n",
              "    }\n",
              "\n",
              "    [theme=dark] .colab-df-convert {\n",
              "      background-color: #3B4455;\n",
              "      fill: #D2E3FC;\n",
              "    }\n",
              "\n",
              "    [theme=dark] .colab-df-convert:hover {\n",
              "      background-color: #434B5C;\n",
              "      box-shadow: 0px 1px 3px 1px rgba(0, 0, 0, 0.15);\n",
              "      filter: drop-shadow(0px 1px 2px rgba(0, 0, 0, 0.3));\n",
              "      fill: #FFFFFF;\n",
              "    }\n",
              "  </style>\n",
              "\n",
              "      <script>\n",
              "        const buttonEl =\n",
              "          document.querySelector('#df-6f44aa07-6675-439e-b3ea-f441af5d2e6a button.colab-df-convert');\n",
              "        buttonEl.style.display =\n",
              "          google.colab.kernel.accessAllowed ? 'block' : 'none';\n",
              "\n",
              "        async function convertToInteractive(key) {\n",
              "          const element = document.querySelector('#df-6f44aa07-6675-439e-b3ea-f441af5d2e6a');\n",
              "          const dataTable =\n",
              "            await google.colab.kernel.invokeFunction('convertToInteractive',\n",
              "                                                     [key], {});\n",
              "          if (!dataTable) return;\n",
              "\n",
              "          const docLinkHtml = 'Like what you see? Visit the ' +\n",
              "            '<a target=\"_blank\" href=https://colab.research.google.com/notebooks/data_table.ipynb>data table notebook</a>'\n",
              "            + ' to learn more about interactive tables.';\n",
              "          element.innerHTML = '';\n",
              "          dataTable['output_type'] = 'display_data';\n",
              "          await google.colab.output.renderOutput(dataTable, element);\n",
              "          const docLink = document.createElement('div');\n",
              "          docLink.innerHTML = docLinkHtml;\n",
              "          element.appendChild(docLink);\n",
              "        }\n",
              "      </script>\n",
              "    </div>\n",
              "  </div>\n",
              "  "
            ]
          },
          "metadata": {},
          "execution_count": 323
        }
      ]
    },
    {
      "cell_type": "markdown",
      "source": [
        "Thus we can see that KNN algorithm stands out against other algorithms and thus it is best one for the prediction."
      ],
      "metadata": {
        "id": "37L-nU4IWB_a"
      },
      "id": "37L-nU4IWB_a"
    },
    {
      "cell_type": "code",
      "source": [],
      "metadata": {
        "id": "wzyOBWFKWRmv"
      },
      "id": "wzyOBWFKWRmv",
      "execution_count": null,
      "outputs": []
    }
  ],
  "metadata": {
    "kernelspec": {
      "display_name": "Python 3 (ipykernel)",
      "language": "python",
      "name": "python3"
    },
    "language_info": {
      "codemirror_mode": {
        "name": "ipython",
        "version": 3
      },
      "file_extension": ".py",
      "mimetype": "text/x-python",
      "name": "python",
      "nbconvert_exporter": "python",
      "pygments_lexer": "ipython3",
      "version": "3.8.13"
    },
    "colab": {
      "provenance": [],
      "collapsed_sections": [
        "5d6b2714",
        "415bf410"
      ]
    }
  },
  "nbformat": 4,
  "nbformat_minor": 5
}